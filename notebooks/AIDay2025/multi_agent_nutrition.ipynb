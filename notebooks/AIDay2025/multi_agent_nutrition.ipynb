{
 "cells": [
  {
   "cell_type": "markdown",
   "id": "51ea135e",
   "metadata": {},
   "source": [
    "\n",
    "# 1) Intro — Multi-Agent Nutritionist (Two Models)\n",
    "\n",
    "This workshop uses **two cooperating agents**:\n",
    "\n",
    "- **Consultant (Medical Expert) — `Qwen/Qwen3-30B-A3B-Instruct-2507-FP8`**  \n",
    "  Acts as the *brain* for our medical expert agent. It has access to a **local OpenNutrition DB** (ingredient/nutrition data + potential health warnings).  \n",
    "  It **assesses the ingredients** of a provided food item and returns an expert analysis plus **healthier alternatives**.\n",
    "\n",
    "- **Orchestrator (Vision + Retrieval) — `Qwen/Qwen3-VL-30B-A3B-Instruct-FP8`**  \n",
    "  Accepts **images (labels/barcodes)** or **text**. Uses **OpenFoodFacts (OFF) API** tools to gather ingredients.  \n",
    "  If OFF fails, it uses **EXA via MCP** as a fallback web search.  \n",
    "  Finally, it **consults the expert agent** and produces a full analysis and suggested **healthier alternatives**.\n",
    "  \n",
    "![Architecture Overview](multi-agent-arch.jpg)"
   ]
  },
  {
   "cell_type": "markdown",
   "id": "8f821cbe",
   "metadata": {},
   "source": [
    "\n",
    "# 2) Flow, Goals, and Agenda\n",
    "\n",
    "## Flow (High Level)\n",
    "1. Orchestrator receives input (image/barcode/text) for a snack/food.\n",
    "2. Orchestrator looks up **ingredients** using **OFF API**; if not found, uses **EXA (MCP)**.\n",
    "3. Orchestrator passes clean ingredients (or product name) to **Consultant**.\n",
    "4. Consultant evaluates risks, flags concerns, and proposes **healthier alternatives**.\n",
    "5. Orchestrator returns a concise, user-friendly **verdict + reasons + alternatives**.\n",
    "\n",
    "## What You Will Build\n",
    "- A **Vision-capable Orchestrator agent** (Qwen VL) with tools for **OFF** and **EXA (MCP)**.\n",
    "- A **Consultant agent** (Qwen 30B text) backed by a **local OpenNutrition DB** toolset.\n",
    "- The **glue** that lets the Orchestrator consult the Consultant automatically.\n",
    "\n",
    "## What You Will Learn\n",
    "- Running **open-weights** models with **vLLM** and **tool calling**.\n",
    "- Turning LLMs into **agents** using **Pydantic AI**.\n",
    "- Turning a **local DB** into a **callable tool** for an AI agent.\n",
    "- Turning an **external API** (OpenFoodFacts) into a **callable tool**.\n",
    "- Connecting a **web browser** using **MCP** with **EXA**.\n",
    "- Wiring up **two agents to collaborate** on one task.\n",
    "\n",
    "## Agenda (You’ll fill in the code cells)\n",
    "1. Pre-reqs\n",
    "2. Install dependencies & imports\n",
    "3. Verify model endpoints\n",
    "4. Smoke test the **Consultant** model\n",
    "5. Build **Consultant** agent + tools (local DB)\n",
    "6. Build **Orchestrator** agent + tools (OFF + EXA fallback)\n",
    "7. Glue: Orchestrator calls Consultant\n",
    "8. E2E examples\n"
   ]
  },
  {
   "cell_type": "markdown",
   "id": "44cb7e40",
   "metadata": {},
   "source": [
    "\n",
    "# 3) Pre-reqs — Running Two Models with vLLM\n",
    "\n",
    "Briefly describe your environment and GPU (e.g., AMD ROCm + MI300X).  \n",
    "You will launch **two** model servers in separate terminals:\n",
    "\n",
    "- **Consultant**: `Qwen/Qwen3-30B-A3B-Instruct-2507-FP8` on **:9000**  \n",
    "- **Orchestrator**: `Qwen/Qwen3-VL-30B-A3B-Instruct-FP8` on **:9001**\n",
    "\n",
    "> Tip: Start them **sequentially** to avoid OOM.\n",
    "\n",
    "Start both model endpoints in **separate terminals** so the Orchestrator and Consultant are available.\n",
    "\n",
    "### Consultant (`Qwen/Qwen3-30B-A3B-Instruct-2507-FP8`) on port **9000**\n"
   ]
  },
  {
   "cell_type": "markdown",
   "id": "2f9d7ed6",
   "metadata": {},
   "source": [
    "\n",
    "\n",
    "```bash\n",
    "VLLM_ATTENTION_BACKEND=TORCH_SDPA \\\n",
    "VLLM_USE_TRITON_FLASH_ATTN=0 \\\n",
    "vllm serve Qwen/Qwen3-30B-A3B-Instruct-2507-FP8 \\\n",
    "  --port 9000 \\\n",
    "  --enable-auto-tool-choice \\\n",
    "  --tool-call-parser hermes \\\n",
    "  --trust-remote-code \\\n",
    "  --gpu-memory_utilization 0.45\n",
    "```\n"
   ]
  },
  {
   "cell_type": "markdown",
   "id": "952fb17e",
   "metadata": {},
   "source": [
    "\n",
    "### Orchestrator (`Qwen/Qwen3-VL-30B-A3B-Instruct-FP8`) on port **9001**\n",
    "```bash\n",
    "VLLM_USE_TRITON_FLASH_ATTN=0 \\\n",
    "vllm serve Qwen/Qwen3-VL-30B-A3B-Instruct-FP8 \\\n",
    "  --port 9001 \\\n",
    "  --enable-auto-tool-choice \\\n",
    "  --tool-call-parser hermes \\\n",
    "  --trust-remote-code \\\n",
    "  --gpu-memory_utilization 0.45\n",
    "```\n"
   ]
  },
  {
   "cell_type": "markdown",
   "id": "ac28d2cc",
   "metadata": {},
   "source": [
    "\n",
    "# 4) Install Pre-reqs and Imports\n",
    "\n",
    "Let's installs all the libraries, then import what you need.  "
   ]
  },
  {
   "cell_type": "code",
   "execution_count": null,
   "id": "0d7a267e",
   "metadata": {},
   "outputs": [],
   "source": [
    "!pip -q install pydantic_ai openai httpx\n",
    "\n",
    "# ── Standard library ────────────────────────────────────────────────────────────\n",
    "from pathlib import Path\n",
    "from typing import List, Optional, Literal, Dict\n",
    "import os, json, mimetypes\n",
    "\n",
    "# ── Third-party ────────────────────────────────────────────────────────────────\n",
    "import httpx\n",
    "from openai import OpenAI\n",
    "from pydantic_ai import Agent, Tool, BinaryContent\n",
    "from pydantic_ai.models.openai import OpenAIChatModel\n",
    "from pydantic_ai.providers.openai import OpenAIProvider\n",
    "from pydantic_ai.mcp import MCPServerStdio\n",
    "\n",
    "# ── Local/project modules ──────────────────────────────────────────────────────\n",
    "from off_api import OFFClient\n",
    "from tools_nutrition_local import reload_tsv, lookup_by_name_local\n",
    "\n",
    "# ── Init ───────────────────────────────────────────────────────────────────────\n",
    "reload_tsv(\"/workspace/opennutrition_foods.tsv\")\n",
    "print(\"Nutrition TSV loaded/reloaded for consultant.\")"
   ]
  },
  {
   "cell_type": "markdown",
   "id": "516a53b5",
   "metadata": {},
   "source": [
    "\n",
    "# 5) Verify Model Endpoints\n",
    "\n",
    "Create a small helper that hits `/v1/models` for both servers.  \n",
    "Confirm:\n",
    "- **Qwen/Qwen3-30B-A3B-Instruct-2507-FP8:9000** — Consultant (text)\n",
    "- **Qwen/Qwen3-VL-30B-A3B-Instruct-FP8:9001** — Orchestrator (vision)\n"
   ]
  },
  {
   "cell_type": "code",
   "execution_count": null,
   "id": "7b4bf756",
   "metadata": {},
   "outputs": [],
   "source": [
    "def check_endpoint(base_url: str) -> None:\n",
    "    try:\n",
    "        r = httpx.get(f\"{base_url}/models\", timeout=10.0)\n",
    "        r.raise_for_status()\n",
    "        models = r.json()\n",
    "        print(f\"[OK] {base_url} reachable. Models:\", models.get(\"data\", []) or models)\n",
    "    except Exception as e:\n",
    "        print(f\"[WARN] Could not reach {base_url}: {e}\")\n",
    "\n",
    "check_endpoint(\"http://localhost:9000/v1\")  # Consultant\n",
    "check_endpoint(\"http://localhost:9001/v1\")  # Orchestrator"
   ]
  },
  {
   "cell_type": "markdown",
   "id": "920248eb",
   "metadata": {},
   "source": [
    "\n",
    "# 6) Smoke Test — Consultant Model (Text)\n",
    "\n",
    "Run a tiny prompt through the **Consultant** endpoint (**:9000**, `Qwen/Qwen3-30B-A3B-Instruct-2507-FP8`) and ensure you get output.\n"
   ]
  },
  {
   "cell_type": "code",
   "execution_count": null,
   "id": "6cefbbf2",
   "metadata": {},
   "outputs": [],
   "source": [
    "consult_client = OpenAI(\n",
    "    base_url=\"http://localhost:9000/v1\",\n",
    "    api_key=\"EMPTY\",\n",
    "    http_client=httpx.Client(http2=False),\n",
    ")\n",
    "\n",
    "try:\n",
    "    resp = consult_client.chat.completions.create(\n",
    "        model=\"Qwen/Qwen3-30B-A3B-Instruct-2507-FP8\",\n",
    "        messages=[\n",
    "            {\"role\": \"system\", \"content\": \"You are a helpful assistant. \"},\n",
    "            {\"role\": \"user\", \"content\": \"Greet my audience to our multi-agent workshop where they build a nutrionist agent.\"}\n",
    "        ],\n",
    "        temperature=0.4,     # more informative but not too random\n",
    "        max_tokens=512,      # allow a longer answer\n",
    "    )\n",
    "    print(resp.choices[0].message.content)\n",
    "except Exception as e:\n",
    "    print(\"[WARN] Consultant chat request failed:\", e)"
   ]
  },
  {
   "cell_type": "markdown",
   "id": "31d0a318",
   "metadata": {},
   "source": [
    "# 7) Build the Consultant Agent with Pydantic AI"
   ]
  },
  {
   "cell_type": "markdown",
   "id": "39bac40b",
   "metadata": {},
   "source": [
    "Use **Pydantic AI** to turn the text model (`Qwen/Qwen3-30B-A3B-Instruct-2507-FP8` on :9000) into a structured **Consultant agent**.\n",
    "\n",
    "**Goals**\n",
    "- Define a concise **system prompt** (safety-first; JSON-only outputs).\n",
    "- Create the agent bound to the **consultant endpoint**.\n",
    "- Provide a tiny **async runner** helper to test the agent with a simple ingredient list.\n",
    "\n",
    "**Hints**\n",
    "- Keep the system prompt minimal and enforce JSON shape.\n",
    "- Use short reasons (<= 12 words) for readability.\n",
    "- Don’t browse in this agent; it relies on local DB/tooling and general nutrition knowledge.\n"
   ]
  },
  {
   "cell_type": "code",
   "execution_count": null,
   "id": "53b0a79a",
   "metadata": {},
   "outputs": [],
   "source": [
    "provider_consult = OpenAIProvider(base_url=\"http://localhost:9000/v1\", api_key=\"EMPTY\")\n",
    "consultant_model = OpenAIChatModel(\"Qwen/Qwen3-30B-A3B-Instruct-2507-FP8\", provider=provider_consult)\n",
    "\n",
    "CONSULTANT_SYSTEM = \"\"\"\n",
    "You are a **Nutrition Consultant AI**.\n",
    "\n",
    "### 1. Role\n",
    "Evaluate food products or ingredient lists for a specific health goal. Recommend healthier alternatives from your tool local_lookup_by_name that taste similar and fit the same product type.\n",
    "\n",
    "### 2. Input\n",
    "You will receive either:\n",
    "1) a product name, or 2) a list of ingredients, and a goal in {general_health, low_sodium, low_sugar, high_protein}.\n",
    "\n",
    "### 3. Process\n",
    "- If a **product name** is provided, use `local_lookup_by_name` to retrieve a record and ingredients; then analyze.\n",
    "- If only **ingredients** are provided, analyze using domain knowledge, infer product type(cookie, soup, rice dish, potato chips, etc) and consider alternatives based on type.\n",
    "- Find one healthier healther alternative by finding it using `local_lookup_by_name` that is from the same type(i.e if the product is soup, suggest a healther soup).\n",
    "- Decide overall: ok | caution | avoid | uncertain. Keep reasons concise.\n",
    "### 4. Rules\n",
    "- If the alternative item you suggested is found by `local_lookup_by_name` then keep trying until you find a healthier alternative that is found by this tool.\n",
    "\n",
    "### 4. Output (JSON only)\n",
    "{\n",
    "  \"product\": \"string | optional\",\n",
    "  \"overall\": \"ok | caution | avoid | uncertain\",\n",
    "  \"reasons\": [\"<=12 words each\"],\n",
    "  \"warnings\": [\"<=12 words each\"],\n",
    "  \"alternatives\": [{\"name\": \"string\", \"reason\": \"<=10 words\"}],\n",
    "  \"notes\": [\"optional tip\"],\n",
    "  \"disclaimer\": \"Educational only; not medical advice.\"\n",
    "}\n",
    "\"\"\"\n",
    "\n",
    "consultant_agent = Agent(\n",
    "    model=consultant_model,\n",
    "    system_prompt=CONSULTANT_SYSTEM,\n",
    ")"
   ]
  },
  {
   "cell_type": "markdown",
   "id": "b39e2da9",
   "metadata": {},
   "source": [
    "# 8) Add Local OpenNutrition DB as a Tool"
   ]
  },
  {
   "cell_type": "markdown",
   "id": "ff00b435",
   "metadata": {},
   "source": [
    "Expose your **local OpenNutrition DB** functions as **agent tools** for the Consultant.\n",
    "\n",
    "**Goals**\n",
    "- Register a **name lookup** tool (and optionally a scored/assessed lookup)."
   ]
  },
  {
   "cell_type": "code",
   "execution_count": null,
   "id": "ceaafe9a",
   "metadata": {},
   "outputs": [],
   "source": [
    "@consultant_agent.tool_plain\n",
    "def local_lookup_by_name(name: str, top_k: int = 5):\n",
    "    \"\"\"Lookup product by name (uses name + alternate_names).\"\"\"\n",
    "    res = lookup_by_name_local(name, top_k=top_k)\n",
    "    return res if res else [{\"status\": \"not_found\"}]\n",
    "\n",
    "async def run_consultant(prompt: str) -> str:\n",
    "    async with consultant_agent:\n",
    "        result = await consultant_agent.run(prompt)\n",
    "        return result.output\n",
    "\n",
    "print(\"Consultant agent ready.\")\n"
   ]
  },
  {
   "cell_type": "markdown",
   "id": "fdb00158",
   "metadata": {},
   "source": [
    "Now, let's try our agent. I am going to provide this agent the ingredients of Kimchi Fried Rice without telling it what dish this is. Let's see if the agent can infer the type of the dish and analyze it correctly."
   ]
  },
  {
   "cell_type": "code",
   "execution_count": null,
   "id": "bcd0dc89",
   "metadata": {},
   "outputs": [],
   "source": [
    "\n",
    "# Quick try\n",
    "await run_consultant(\"Cooked rice, Kimchi, Gochujang (Korean red chili paste), Soy sauce, Sesame oil, Garlic, Green onions, Vegetable oil, Egg, Sugar, Sesame seeds, Seaweed flakes (optional)\")\n"
   ]
  },
  {
   "cell_type": "markdown",
   "id": "089c2568",
   "metadata": {},
   "source": [
    "# 9) Orchestrator (Phase 1) – Ingredient Extractor (no tools yet)"
   ]
  },
  {
   "cell_type": "markdown",
   "id": "d43bc9bf",
   "metadata": {},
   "source": [
    "Create a **Vision-capable Orchestrator** agent (`Qwen/Qwen3-VL-30B-A3B-Instruct-FP8` on :9001) **without tools** to start.\n",
    "\n",
    "**Goals**\n",
    "- Set a system prompt that **returns only a cleaned ingredient list** when given a product name or image.\n",
    "- Keep responses brief (<= 5 lines).\n",
    "- Ask **one clarifying question** if the query is ambiguous.\n",
    "\n",
    "**Hints**\n",
    "- This phase helps validate basic I/O with the VLM before wiring tools.\n",
    "- You can test with text-only queries first.\n"
   ]
  },
  {
   "cell_type": "code",
   "execution_count": null,
   "id": "69848331",
   "metadata": {},
   "outputs": [],
   "source": [
    "provider_orch = OpenAIProvider(base_url=\"http://localhost:9001/v1\", api_key=\"EMPTY\")\n",
    "orch_model = OpenAIChatModel(\"Qwen/Qwen3-VL-30B-A3B-Instruct-FP8\", provider=provider_orch)\n",
    "\n",
    "ORCH_SYS_PHASE1 = \"\"\"\n",
    "You are an Ingredient Orchestrator.\n",
    "Goal: When the user names a packaged snack, a dish, or provides a picture, return ONLY a cleaned ingredient list (bullets or comma‑separated) along with product name. If ambiguous, state one brief assumption.\n",
    "Keep response ≤ 5 lines. Educational only; not medical advice.\n",
    "\"\"\"\n",
    "\n",
    "orchestrator_phase1 = Agent(model=orch_model, system_prompt=ORCH_SYS_PHASE1)\n",
    "\n",
    "async with orchestrator_phase1:\n",
    "    demo = await orchestrator_phase1.run(\"Ingredients for KitKat (USA)?\")\n",
    "    print(demo.output)"
   ]
  },
  {
   "cell_type": "markdown",
   "id": "688dd639",
   "metadata": {},
   "source": [
    "# 9) Enable EXA MCP (Fallback Web Search)"
   ]
  },
  {
   "cell_type": "markdown",
   "id": "a8a5b29a",
   "metadata": {},
   "source": [
    "Add **EXA via MCP** as a **toolset** available to the Orchestrator for **ingredient retrieval** when OFF/local info is insufficient.\n",
    "\n",
    "**Goals**\n",
    "- Initialize `MCPServerStdio` with your `EXA_API_KEY` (environment variable).\n",
    "- Attach the EXA toolset to the Orchestrator agent.\n",
    "\n",
    "**Showcase**\n",
    "- Demonstrate a case where **EXA** finds a manufacturer or retailer page with a clearer ingredient list than initial guesses.\n"
   ]
  },
  {
   "cell_type": "markdown",
   "id": "f4564b43",
   "metadata": {},
   "source": [
    "Let's install necessary packages and set EXA MCP client."
   ]
  },
  {
   "cell_type": "code",
   "execution_count": null,
   "id": "2e649e5d",
   "metadata": {},
   "outputs": [],
   "source": [
    "!curl -fsSL https://deb.nodesource.com/setup_20.x | sudo -E bash - || true\n",
    "!apt-get install -y nodejs || true\n",
    "\n",
    "EXA_API_KEY = os.environ.get(\"EXA_API_KEY\")\n",
    "exa_server = None\n",
    "if EXA_API_KEY:\n",
    "    exa_server = MCPServerStdio(\n",
    "        \"npx\",\n",
    "        args=[\"-y\", \"mcp-remote\", f\"https://mcp.exa.ai/mcp?exaApiKey={EXA_API_KEY}\"],\n",
    "    )\n",
    "    print(\"EXA MCP enabled.\")\n",
    "else:\n",
    "    print(\"EXA MCP disabled (set EXA_API_KEY to enable).\")"
   ]
  },
  {
   "cell_type": "markdown",
   "id": "c7beb5bf",
   "metadata": {},
   "source": [
    "Next, we will update our agent system prompt and `toolsets` parameter to use EXA."
   ]
  },
  {
   "cell_type": "code",
   "execution_count": null,
   "id": "929be011",
   "metadata": {},
   "outputs": [],
   "source": [
    "ORCH_SYS_PHASE1_EXA = \"\"\"\n",
    "You are an Ingredient Orchestrator with tool access.\n",
    "\n",
    "Hard requirement:\n",
    "• ALWAYS use web_search_exa(query: str) to look up current ingredients. Do not answer from memory.\n",
    "• Do not answer until you have called web_search_exa at least once in this turn.\n",
    "\n",
    "Goal:\n",
    "• When a user names a store bought snack or dish, use web_search_exa to find a reliable ingredient list (manufacturer > major retailer).\n",
    "• Then list the ingredients and the name of the snack.\n",
    "• Provide a link to the source.\n",
    "\n",
    "Rules:\n",
    "• Keep answers short (≤ 6 lines). No internal JSON/tool dumps.\n",
    "\"\"\"\n",
    "\n",
    "orchestrator_phase1_exa = Agent(\n",
    "    model=orch_model,\n",
    "    system_prompt=ORCH_SYS_PHASE1_EXA,\n",
    "    toolsets=[exa_server] if exa_server else None,\n",
    ")\n"
   ]
  },
  {
   "cell_type": "markdown",
   "id": "aeaed35e",
   "metadata": {},
   "source": [
    "Let's try the agent with browsing enabled."
   ]
  },
  {
   "cell_type": "code",
   "execution_count": null,
   "id": "fb3d97a9",
   "metadata": {},
   "outputs": [],
   "source": [
    "\n",
    "async with orchestrator_phase1_exa:\n",
    "    demo = await orchestrator_phase1_exa.run(\"Ingredients for KitKat (USA)?\")\n",
    "    print(demo.output)\n"
   ]
  },
  {
   "cell_type": "markdown",
   "id": "7f8273c3",
   "metadata": {},
   "source": [
    "# 10) Add OpenFoodFacts (OFF) Tools — Vision Barcode -> Ingredients"
   ]
  },
  {
   "cell_type": "markdown",
   "id": "790c946f",
   "metadata": {},
   "source": [
    "Turn the **OFF API** into callable tools for the Orchestrator:\n",
    "- `off_by_barcode(ean_13: str) -> dict`\n",
    "- `off_search_by_name(query: str, limit: int = 10) -> list[dict]`\n",
    "\n",
    "**Goals**\n",
    "- Register OFF tools on the Orchestrator.\n",
    "- Show a **vision example**: read a label/barcode from an image, call `off_by_barcode`, and extract **ingredients**.\n"
   ]
  },
  {
   "cell_type": "code",
   "execution_count": null,
   "id": "ae1c6d29",
   "metadata": {},
   "outputs": [],
   "source": [
    "off = OFFClient(user_agent=\"IngredientOrchestrator/1.0 (you@example.com)\")\n",
    "\n",
    "def off_by_barcode_fn(ean_13: str) -> dict:\n",
    "    \"\"\"OpenFoodFacts API: lookup by EAN‑13 barcode.\"\"\"\n",
    "    try:\n",
    "        return off.product_by_barcode(ean_13) or {\"status\": \"not_found\"}\n",
    "    except Exception as e:\n",
    "        return {\"status\": \"error\", \"error\": str(e)}\n",
    "\n",
    "def off_search_by_name_fn(query: str, limit: int = 10):\n",
    "    \"\"\"OpenFoodFacts API: search by name.\"\"\"\n",
    "    try:\n",
    "        return off.search_by_name(query, limit=limit) or [{\"status\": \"not_found\"}]\n",
    "    except Exception as e:\n",
    "        return [{\"status\": \"error\", \"error\": str(e)}]\n",
    "\n",
    "off_by_barcode = Tool(off_by_barcode_fn, name=\"off_by_barcode\", description=\"OFF: lookup by barcode\")\n",
    "off_search_by_name = Tool(off_search_by_name_fn, name=\"off_search_by_name\", description=\"OFF: search by name\")\n",
    "\n",
    "ORCH_SYS_PHASE1_EXA_OFF = \"\"\"\n",
    "You are an Ingredient Orchestrator with tool access.\n",
    "\n",
    "Data tools (in required priority):\n",
    "1. off_by_barcode(ean_13)  -> FIRST if a 13-digit barcode is present.\n",
    "2. off_search_by_name(name) -> If no barcode or barcode lookup failed.\n",
    "3. use web_search_exa(query: str) to look up current ingredients. Do not answer from memory.\n",
    "\n",
    "Goal:\n",
    "• When a user names a store bought snack or dish, use web_search_exa to find a reliable ingredient list (manufacturer > major retailer).\n",
    "• Then list the ingredients and the name of the snack.\n",
    "• Provide a link to the source.\n",
    "\n",
    "Rules:\n",
    "• Keep answers short (≤ 6 lines). No internal JSON/tool dumps.\n",
    "\"\"\"\n",
    "\n",
    "orchestrator_phase1_exa_off = Agent(\n",
    "    model=orch_model,\n",
    "    system_prompt=ORCH_SYS_PHASE1_EXA_OFF,\n",
    "    tools=[off_by_barcode, off_search_by_name],\n",
    "    toolsets=[exa_server] if exa_server else None,\n",
    ")"
   ]
  },
  {
   "cell_type": "markdown",
   "id": "9219c8ce",
   "metadata": {},
   "source": [
    "We can now try our VLM, by giving it a picture rather than the name or ingredients. Let's start by making sure the picture we are giving it is a relevant picture."
   ]
  },
  {
   "cell_type": "code",
   "execution_count": null,
   "id": "0f70480e",
   "metadata": {},
   "outputs": [],
   "source": [
    "img_path = Path(\"barcode.jpg\")\n",
    "if img_path.exists():\n",
    "    # Preview the image (fast, no Pillow needed)\n",
    "    from IPython.display import display, Image as IPImage\n",
    "    display(IPImage(filename=str(img_path)))  # shows the picture inline\n",
    "else:\n",
    "    print(\"[Info] Sample image not found; skipping image demo.\")"
   ]
  },
  {
   "cell_type": "markdown",
   "id": "c8058131",
   "metadata": {},
   "source": [
    "Now let's see if our agent can extract the barcode and pass it to its barcode reader tool."
   ]
  },
  {
   "cell_type": "code",
   "execution_count": null,
   "id": "0c9a26bd",
   "metadata": {},
   "outputs": [],
   "source": [
    "\n",
    "# Image example (if file exists)\n",
    "img_path = Path(\"barcode.jpg\")\n",
    "if img_path.exists():\n",
    "    mime = mimetypes.guess_type(str(img_path))[0] or \"image/jpeg\"\n",
    "    content = [\n",
    "        \"Use the image: extract a barcode (remove all spaces and extra chars); and call off_by_barcode or off_search_by_name to list ingredients.\",\n",
    "        BinaryContent(data=img_path.read_bytes(), media_type=mime),\n",
    "    ]\n",
    "    async with orchestrator_phase1_exa_off:\n",
    "        demo = await orchestrator_phase1_exa_off.run(content)\n",
    "        print(demo.output)\n",
    "else:\n",
    "    print(\"[Info] Sample image not found; skipping image demo.\")\n"
   ]
  },
  {
   "cell_type": "markdown",
   "id": "100e117f",
   "metadata": {},
   "source": [
    "# 11) Wrap Consultant as a Tool"
   ]
  },
  {
   "cell_type": "markdown",
   "id": "6635931f",
   "metadata": {},
   "source": [
    "Expose the Consultant as a callable tool (e.g., `consult_nutritionist(...)`.\n",
    "\n",
    "**Goals**\n",
    "- Accept **product name** or **ingredient list** and an optional **goal** (e.g., `low_sodium`).\n",
    "- Call the **Consultant agent** internally and **parse JSON** safely.\n",
    "- Return a minimal **fallback** JSON if the consultant returns malformed data.\n"
   ]
  },
  {
   "cell_type": "code",
   "execution_count": null,
   "id": "968557bd",
   "metadata": {},
   "outputs": [],
   "source": [
    "from typing import Optional\n",
    "\n",
    "async def consult_nutritionist_fn(\n",
    "    ingredients: List[str],\n",
    "    sodium_mg_per_serving: Optional[int] = None,\n",
    "    product_name: Optional[str] = None,\n",
    ") -> dict:\n",
    "    print(\"consultant agent is called\")\n",
    "    payload = {\"product_name\": product_name, \"ingredients\": ingredients}\n",
    "\n",
    "    async with consultant_agent:\n",
    "        res = await consultant_agent.run(json.dumps(payload))\n",
    "\n",
    "    try:\n",
    "        return json.loads(res.output)\n",
    "    except Exception:\n",
    "        return {\n",
    "            \"overall\": \"uncertain\",\n",
    "            \"reasons\": [\"consultant returned non‑JSON\"],\n",
    "            \"warnings\": [],\n",
    "            \"alternatives\": [],\n",
    "            \"disclaimer\": \"Educational only; not medical advice.\",\n",
    "        }\n",
    "\n",
    "consult_nutritionist = Tool(\n",
    "    consult_nutritionist_fn,\n",
    "    name=\"consult_nutritionist\",\n",
    "    description=\"Evaluate ingredient list for high BP; returns JSON verdict.\",\n",
    ")\n",
    "print(\"Consultant wrapped as tool: consult_nutritionist\")\n"
   ]
  },
  {
   "cell_type": "markdown",
   "id": "74a0074f",
   "metadata": {},
   "source": [
    "# 12) Final Version — Stick Everything Together"
   ]
  },
  {
   "cell_type": "markdown",
   "id": "88d09b96",
   "metadata": {},
   "source": [
    "Build the final Orchestrator configuration that:\n",
    "1. Uses **OFF tools** first for barcode/name lookups.\n",
    "2. Falls back to **EXA (MCP)** only if OFF fails/ambiguous.\n",
    "3. Calls the **Consultant tool** with either product name or cleaned ingredients.\n",
    "4. Returns a compact **verdict + 1–3 reasons + 1–2 alternatives**, plus an educational disclaimer.\n",
    "\n",
    "**Goals**\n",
    "- Provide a brief **end-to-end** example (text-only and image-based).\n",
    "- Keep outputs <= 6 lines and avoid leaking raw tool JSON."
   ]
  },
  {
   "cell_type": "code",
   "execution_count": null,
   "id": "47f6f221",
   "metadata": {},
   "outputs": [],
   "source": [
    "from pydantic_ai import Agent as FinalAgent\n",
    "\n",
    "ORCH_SYS_FINAL = \"\"\"\n",
    "You are an Ingredient Orchestrator with tool access.\n",
    "\n",
    "Objective:\n",
    "Derive an ingredient list  (OFF or EXA) or from an explicit user‑provided list, then call consult_nutritionist with BOTH ingredients (list) and product_name.\n",
    "\n",
    "Data tools (priority):\n",
    "1) off_by_barcode(ean_13) - FIRST if a 13‑digit barcode is present.\n",
    "2) off_search_by_name(name) - If no barcode or lookup failed.\n",
    "3) web_search_exa(query) - FALLBACK ONLY if OFF fails/ambiguous or if user explicitly asks for freshest data.\n",
    "\n",
    "RULES:\n",
    "- NEVER fabricate ingredients from memory.\n",
    "- NEVER output an ingredients list unless it came from tools or the user.\n",
    "- If all tools fail, ask the user to paste the ingredients.\n",
    "- ALWAYS use consult_nutritionist when you have the ingredients.\n",
    "- NEVER suggest your own alternative, always rely on the response from consult_nutritionist\n",
    "\n",
    "Extraction rules:\n",
    "- OFF: prefer ingredients fields; preserve order; trim/dedupe.\n",
    "- Web: manufacturer > major retailer > reputable database. Ignore marketing blurbs and storage instructions.\n",
    "\n",
    "Consultant call:\n",
    "- After ingredients are ready, call consult_nutritionist with product_name and ingredients.\n",
    "- Do NOT call until ingredients are confirmed.\n",
    "\n",
    "Ambiguity:\n",
    "- If OFF returns multiple variants (country/flavor), ask ONE concise clarifying question.\n",
    "\n",
    "Final user answer format (≤ 6 lines):\n",
    "1) Verdict: OK / Caution / Avoid / Uncertain\n",
    "2-4) 1-3 short reasons\n",
    "5) Healthier alternative (if available)\n",
    "6) Educational only; not medical advice.\n",
    "\n",
    "**IMPORTANT** Include all the reasoning and actions you took as a summary for the user. Show the results you got from each tool call.\n",
    "\"\"\"\n",
    "\n",
    "orchestrator = FinalAgent(\n",
    "    model=orch_model,\n",
    "    system_prompt=ORCH_SYS_FINAL,\n",
    "    tools=[off_by_barcode, off_search_by_name, consult_nutritionist],\n",
    "    toolsets=[exa_server] if exa_server else None,\n",
    ")\n",
    "\n",
    "print(\"Final orchestrator ready.\")\n"
   ]
  },
  {
   "cell_type": "markdown",
   "id": "c564bb68",
   "metadata": {},
   "source": [
    "Time to test our E2E system."
   ]
  },
  {
   "cell_type": "code",
   "execution_count": null,
   "id": "65a9c226",
   "metadata": {},
   "outputs": [],
   "source": [
    "async with orchestrator:\n",
    "    result = await orchestrator.run(\"Is Kitkat USA safe to eat for High Blood Pressure?\")\n",
    "    print(result.output)"
   ]
  },
  {
   "cell_type": "markdown",
   "id": "727cc6ac",
   "metadata": {},
   "source": [
    "# 13) Bonus Challenge — Total Calories per Pack (Barcode Only)"
   ]
  },
  {
   "cell_type": "markdown",
   "id": "6131d585",
   "metadata": {},
   "source": [
    "Extend your agent so that, when given a **barcode**, it returns the **total calories for one full pack** of the item.\n",
    "\n",
    "**What counts as a win (prize criterion):**\n",
    "- Given just a **barcode** (text or image), your Orchestrator should output:  \n",
    "  **“Total calories (per pack): ** (along with the usual brief verdict + reasons if you like)."
   ]
  },
  {
   "cell_type": "code",
   "execution_count": null,
   "id": "5c183a27",
   "metadata": {},
   "outputs": [],
   "source": [
    "# TODO: extend your agent to provide total calories per pack based on weight."
   ]
  }
 ],
 "metadata": {
  "kernelspec": {
   "display_name": "Python 3",
   "language": "python",
   "name": "python3"
  },
  "language_info": {
   "name": "python",
   "version": "3.13.9"
  }
 },
 "nbformat": 4,
 "nbformat_minor": 5
}
