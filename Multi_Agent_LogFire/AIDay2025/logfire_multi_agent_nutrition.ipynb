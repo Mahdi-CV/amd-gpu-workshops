{
 "cells": [
  {
   "cell_type": "markdown",
   "id": "8a4ab5ae-5165-4c15-84f7-b2079374c17e",
   "metadata": {},
   "source": [
    "\n",
    "# 1) Intro — Multi-Agent Nutritionist (Two Models)\n",
    "\n",
    "This workshop uses **two cooperating agents**:\n",
    "\n",
    "- **Consultant (Medical Expert) — `Qwen/Qwen3-30B-A3B-Instruct-2507-FP8`**  \n",
    "  Acts as the *brain* for our medical expert agent. It has access to a **local OpenNutrition DB** (ingredient/nutrition data + potential health warnings).  \n",
    "  It **assesses the ingredients** of a provided food item and returns an expert analysis plus **healthier alternatives**.\n",
    "\n",
    "- **Orchestrator (Vision + Retrieval) — `Qwen/Qwen3-VL-30B-A3B-Instruct-FP8`**  \n",
    "  Accepts **images (labels/barcodes)** or **text**. Uses **OpenFoodFacts (OFF) API** tools to gather ingredients.  \n",
    "  If OFF fails, it uses **EXA via MCP** as a fallback web search.  \n",
    "  Finally, it **consults the expert agent** and produces a full analysis and suggested **healthier alternatives**.\n",
    "  \n",
    "![Architecture Overview](multi-agent-arch.jpg)"
   ]
  },
  {
   "cell_type": "markdown",
   "id": "c977d471-699a-44be-a8a9-20c1adf28ff8",
   "metadata": {},
   "source": [
    "\n",
    "# 2) Flow, Goals, and Agenda\n",
    "\n",
    "## Flow (High Level)\n",
    "1. Orchestrator receives input (image/barcode/text) for a snack/food.\n",
    "2. Orchestrator looks up **ingredients** using **OFF API**; if not found, uses **EXA (MCP)**.\n",
    "3. Orchestrator passes clean ingredients (or product name) to **Consultant**.\n",
    "4. Consultant evaluates risks, flags concerns, and proposes **healthier alternatives**.\n",
    "5. Orchestrator returns a concise, user-friendly **verdict + reasons + alternatives**.\n",
    "\n",
    "## What You Will Build\n",
    "- A **Vision-capable Orchestrator agent** (Qwen VL) with tools for **OFF** and **EXA (MCP)**.\n",
    "- A **Consultant agent** (Qwen 30B text) backed by a **local OpenNutrition DB** toolset.\n",
    "- The **glue** that lets the Orchestrator consult the Consultant automatically.\n",
    "\n",
    "## What You Will Learn\n",
    "- Running **open-weights** models with **vLLM** and **tool calling**.\n",
    "- Turning LLMs into **agents** using **Pydantic AI**.\n",
    "- Turning a **local DB** into a **callable tool** for an AI agent.\n",
    "- Turning an **external API** (OpenFoodFacts) into a **callable tool**.\n",
    "- Connecting a **web browser** using **MCP** with **EXA**.\n",
    "- Wiring up **two agents to collaborate** on one task.\n",
    "\n",
    "## Agenda (You’ll fill in the code cells)\n",
    "1. Pre-reqs\n",
    "2. Install dependencies & imports\n",
    "3. Verify model endpoints\n",
    "4. Smoke test the **Consultant** model\n",
    "5. Build **Consultant** agent + tools (local DB)\n",
    "6. Build **Orchestrator** agent + tools (OFF + EXA fallback)\n",
    "7. Glue: Orchestrator calls Consultant\n",
    "8. E2E examples\n"
   ]
  },
  {
   "cell_type": "markdown",
   "id": "0e750fdf-166c-4b08-9994-bae5677782ab",
   "metadata": {},
   "source": [
    "\n",
    "# 3) Pre-reqs — Running Two Models with vLLM\n",
    "\n",
    "Briefly describe your environment and GPU (e.g., AMD ROCm + MI300X).  \n",
    "You will launch **two** model servers in separate terminals:\n",
    "\n",
    "- **Consultant**: `Qwen/Qwen3-30B-A3B-Instruct-2507-FP8` on **:9000**  \n",
    "- **Orchestrator**: `Qwen/Qwen3-VL-30B-A3B-Instruct-FP8` on **:9001**\n",
    "\n",
    "> Tip: Start them **sequentially** to avoid OOM.\n",
    "\n",
    "Start both model endpoints in **separate terminals** so the Orchestrator and Consultant are available.\n",
    "\n",
    "### Consultant (`Qwen/Qwen3-30B-A3B-Instruct-2507-FP8`) on port **9000**\n"
   ]
  },
  {
   "cell_type": "markdown",
   "id": "f9b2055b-f737-4a1d-a58d-0a713e10f652",
   "metadata": {},
   "source": [
    "\n",
    "\n",
    "```bash\n",
    "VLLM_ATTENTION_BACKEND=TORCH_SDPA \\\n",
    "USE_TRITON_FLASH_ATTN=0 \\\n",
    "vllm serve Qwen/Qwen3-30B-A3B-Instruct-2507-FP8 \\\n",
    "  --port 9000 \\\n",
    "  --enable-auto-tool-choice \\\n",
    "  --tool-call-parser hermes \\\n",
    "  --trust-remote-code \\\n",
    "  --gpu-memory_utilization 0.45\n",
    "```\n"
   ]
  },
  {
   "cell_type": "markdown",
   "id": "2c88e66f-3564-49c5-980e-3f141dfcd35a",
   "metadata": {},
   "source": [
    "\n",
    "### Orchestrator (`Qwen/Qwen3-VL-30B-A3B-Instruct-FP8`) on port **9001**\n",
    "```bash\n",
    "VLLM_USE_TRITON_FLASH_ATTN=0 \\\n",
    "vllm serve Qwen/Qwen3-VL-30B-A3B-Instruct-FP8 \\\n",
    "  --port 9001 \\\n",
    "  --enable-auto-tool-choice \\\n",
    "  --tool-call-parser hermes \\\n",
    "  --trust-remote-code \\\n",
    "  --gpu-memory_utilization 0.45\n",
    "```\n"
   ]
  },
  {
   "cell_type": "markdown",
   "id": "46e4d445-f796-44da-a9bf-742cad93e635",
   "metadata": {},
   "source": [
    "\n",
    "# 4) Install Pre-reqs and Imports\n",
    "\n",
    "Let's installs all the libraries, then import what you need.  "
   ]
  },
  {
   "cell_type": "code",
   "execution_count": 1,
   "id": "d92fe905-570b-45b1-a135-42841d145457",
   "metadata": {},
   "outputs": [
    {
     "name": "stdout",
     "output_type": "stream",
     "text": [
      "\u001b[33mWARNING: Running pip as the 'root' user can result in broken permissions and conflicting behaviour with the system package manager, possibly rendering your system unusable. It is recommended to use a virtual environment instead: https://pip.pypa.io/warnings/venv. Use the --root-user-action option if you know what you are doing and want to suppress this warning.\u001b[0m\u001b[33m\n",
      "\u001b[0m"
     ]
    }
   ],
   "source": [
    "!pip -q install pydantic_ai openai httpx\n",
    "\n",
    "# ── Standard library ────────────────────────────────────────────────────────────\n",
    "from pathlib import Path\n",
    "from typing import List, Optional, Literal, Dict\n",
    "import os, json, mimetypes\n",
    "\n",
    "# ── Third-party ────────────────────────────────────────────────────────────────\n",
    "import asyncio\n",
    "from functools import wraps\n",
    "import time\n",
    "import httpx\n",
    "from openai import OpenAI\n",
    "import logfire\n",
    "from pydantic import BaseModel, Field\n",
    "from pydantic_ai import Agent, Tool, BinaryContent\n",
    "from pydantic_ai.models.openai import OpenAIChatModel\n",
    "from pydantic_ai.providers.openai import OpenAIProvider\n",
    "from pydantic_ai.mcp import MCPServerStdio\n",
    "\n",
    "# ── Local/project modules ──────────────────────────────────────────────────────\n",
    "from off_api import OFFClient\n",
    "from tools_nutrition_local import reload_tsv, lookup_by_name_local"
   ]
  },
  {
   "cell_type": "markdown",
   "id": "c22c00a2-c067-43bd-91a7-8cd5c8af8b86",
   "metadata": {},
   "source": [
    "### Let's configure Logfire"
   ]
  },
  {
   "cell_type": "code",
   "execution_count": 3,
   "id": "1d2c460f-d4fc-4509-857b-56ba1a55abe3",
   "metadata": {},
   "outputs": [
    {
     "data": {
      "text/html": [
       "<pre style=\"white-space:pre;overflow-x:auto;line-height:normal;font-family:Menlo,'DejaVu Sans Mono',consolas,'Courier New',monospace\"><span style=\"font-weight: bold\">Logfire</span> project URL: <a href=\"https://logfire-us.pydantic.dev/satya/devdaydemo\" target=\"_blank\"><span style=\"color: #008080; text-decoration-color: #008080; text-decoration: underline\">https://logfire-us.pydantic.dev/satya/devdaydemo</span></a>\n",
       "</pre>\n"
      ],
      "text/plain": [
       "\u001b[1mLogfire\u001b[0m project URL: \u001b]8;id=39683;https://logfire-us.pydantic.dev/satya/devdaydemo\u001b\\\u001b[4;36mhttps://logfire-us.pydantic.dev/satya/devdaydemo\u001b[0m\u001b]8;;\u001b\\\n"
      ]
     },
     "metadata": {},
     "output_type": "display_data"
    },
    {
     "data": {
      "text/plain": [
       "<logfire._internal.main.Logfire at 0x7716c7c74e60>"
      ]
     },
     "execution_count": 3,
     "metadata": {},
     "output_type": "execute_result"
    }
   ],
   "source": [
    "logfire.configure(\n",
    "    token=os.environ.get(\"LOGFIRE_TOKEN\"),  # Set this environment variable\n",
    "    service_name=\"nutrition-multi-agent-dev-day\",\n",
    "    service_version=\"1.0.0\",\n",
    "    environment=\"production\",\n",
    "    send_to_logfire=True,  # Set to False to only log locally\n",
    "    console=logfire.ConsoleOptions(\n",
    "        colors=\"auto\",\n",
    "        include_timestamps=True,\n",
    "        verbose=True,\n",
    "    )\n",
    ")"
   ]
  },
  {
   "cell_type": "markdown",
   "id": "1ab086b4-6916-4776-9c10-d3349dd06015",
   "metadata": {},
   "source": [
    "Let's create a Decorator to add Logfire spans to our custom async and sync functions"
   ]
  },
  {
   "cell_type": "code",
   "execution_count": 4,
   "id": "5d6bfeb5-b4a7-4249-b179-a247dcc604ab",
   "metadata": {},
   "outputs": [],
   "source": [
    "def trace_function(name: str = None, **extra_attributes):\n",
    "    def decorator(func):\n",
    "        span_name = name\n",
    "        \n",
    "        @wraps(func)\n",
    "        def sync_wrapper(*args, **kwargs):\n",
    "            with logfire.span(span_name, **extra_attributes) as span:\n",
    "                try:\n",
    "                    result = func(*args, **kwargs)\n",
    "                    span.set_attribute(\"status\", \"success\")\n",
    "                    return result\n",
    "                except Exception as e:\n",
    "                    span.set_attribute(\"status\", \"error\")\n",
    "                    span.set_attribute(\"error.type\", type(e).__name__)\n",
    "                    span.set_attribute(\"error.message\", str(e))\n",
    "                    raise\n",
    "        \n",
    "        @wraps(func)\n",
    "        async def async_wrapper(*args, **kwargs):\n",
    "            with logfire.span(span_name, **extra_attributes) as span:\n",
    "                try:\n",
    "                    result = await func(*args, **kwargs)\n",
    "                    span.set_attribute(\"status\", \"success\")\n",
    "                    return result\n",
    "                except Exception as e:\n",
    "                    span.set_attribute(\"status\", \"error\")\n",
    "                    span.set_attribute(\"error.type\", type(e).__name__)\n",
    "                    span.set_attribute(\"error.message\", str(e))\n",
    "                    raise\n",
    "        \n",
    "        if asyncio.iscoroutinefunction(func):\n",
    "            return async_wrapper\n",
    "        return sync_wrapper\n",
    "    return decorator"
   ]
  },
  {
   "cell_type": "markdown",
   "id": "d4b93a9d-df88-454a-8275-75284f59cbef",
   "metadata": {},
   "source": [
    "\n",
    "# 5) Verify Model Endpoints\n",
    "\n",
    "Create a small helper that hits `/v1/models` for both servers.  \n",
    "Confirm:\n",
    "- **Qwen/Qwen3-30B-A3B-Instruct-2507-FP8:9000** — Consultant (text)\n",
    "- **Qwen/Qwen3-VL-30B-A3B-Instruct-FP8:9001** — Orchestrator (vision)\n"
   ]
  },
  {
   "cell_type": "code",
   "execution_count": 5,
   "id": "492772ba-4834-46c7-8482-a2db16bc9830",
   "metadata": {
    "scrolled": true
   },
   "outputs": [
    {
     "name": "stdout",
     "output_type": "stream",
     "text": [
      "17:25:50.374 system.initialization\n",
      "             │ /tmp/ipykernel_375176/2201019512.py:1\n",
      "17:25:50.375   database.load_nutrition_tsv\n",
      "             │ /tmp/ipykernel_375176/2201019512.py:2\n",
      "17:25:51.443     Nutrition TSV loaded/reloaded for consultant\n",
      "             │ /tmp/ipykernel_375176/2201019512.py:4 info\n",
      "17:25:51.445   health_check.endpoint\n",
      "             │ /tmp/ipykernel_375176/560691417.py:7\n",
      "17:25:51.500     Endpoint reachable\n",
      "             │ /tmp/ipykernel_375176/2201019512.py:13 info\n",
      "             │ extra={\n",
      "             │           'endpoint': 'http://localhost:9000/v1',\n",
      "             │           'models': [{'id': 'Qwen/Qwen3-30B-A3B-Instruct-2507-FP8', 'object': 'model', 'created': 1760894751, 'owned_by': 'vllm', 'root': 'Qwen/Qwen3-30B-A3B-Instruct-2507-FP8', 'parent': None, 'max_model_len': 262144, 'permission': [{'id': 'modelperm-13bb2ed907044a1696411288bad85c1b', 'object': 'model_permission', 'created': 1760894751, 'allow_create_engine': False, 'allow_sampling': True, 'allow_logprobs': True, 'allow_search_indices': False, 'allow_view': True, 'allow_fine_tuning': False, 'organization': '*', 'group': None, 'is_blocking': False}]}],\n",
      "             │       }\n",
      "[OK] http://localhost:9000/v1 reachable. Models: [{'id': 'Qwen/Qwen3-30B-A3B-Instruct-2507-FP8', 'object': 'model', 'created': 1760894751, 'owned_by': 'vllm', 'root': 'Qwen/Qwen3-30B-A3B-Instruct-2507-FP8', 'parent': None, 'max_model_len': 262144, 'permission': [{'id': 'modelperm-13bb2ed907044a1696411288bad85c1b', 'object': 'model_permission', 'created': 1760894751, 'allow_create_engine': False, 'allow_sampling': True, 'allow_logprobs': True, 'allow_search_indices': False, 'allow_view': True, 'allow_fine_tuning': False, 'organization': '*', 'group': None, 'is_blocking': False}]}]\n",
      "17:25:51.501   health_check.endpoint\n",
      "             │ /tmp/ipykernel_375176/560691417.py:7\n",
      "17:25:51.539     Endpoint reachable\n",
      "             │ /tmp/ipykernel_375176/2201019512.py:13 info\n",
      "             │ extra={\n",
      "             │           'endpoint': 'http://localhost:9001/v1',\n",
      "             │           'models': [{'id': 'Qwen/Qwen3-VL-30B-A3B-Instruct-FP8', 'object': 'model', 'created': 1760894751, 'owned_by': 'vllm', 'root': 'Qwen/Qwen3-VL-30B-A3B-Instruct-FP8', 'parent': None, 'max_model_len': 262144, 'permission': [{'id': 'modelperm-28bc8ce7f298439a953f89778b94e79a', 'object': 'model_permission', 'created': 1760894751, 'allow_create_engine': False, 'allow_sampling': True, 'allow_logprobs': True, 'allow_search_indices': False, 'allow_view': True, 'allow_fine_tuning': False, 'organization': '*', 'group': None, 'is_blocking': False}]}],\n",
      "             │       }\n",
      "[OK] http://localhost:9001/v1 reachable. Models: [{'id': 'Qwen/Qwen3-VL-30B-A3B-Instruct-FP8', 'object': 'model', 'created': 1760894751, 'owned_by': 'vllm', 'root': 'Qwen/Qwen3-VL-30B-A3B-Instruct-FP8', 'parent': None, 'max_model_len': 262144, 'permission': [{'id': 'modelperm-28bc8ce7f298439a953f89778b94e79a', 'object': 'model_permission', 'created': 1760894751, 'allow_create_engine': False, 'allow_sampling': True, 'allow_logprobs': True, 'allow_search_indices': False, 'allow_view': True, 'allow_fine_tuning': False, 'organization': '*', 'group': None, 'is_blocking': False}]}]\n"
     ]
    }
   ],
   "source": [
    "with logfire.span(\"system.initialization\"):\n",
    "    with logfire.span(\"database.load_nutrition_tsv\"):\n",
    "        reload_tsv(\"/workspace/opennutrition_foods.tsv\")\n",
    "        logfire.info(\"Nutrition TSV loaded/reloaded for consultant\")\n",
    "\n",
    "    # Check endpoints\n",
    "    @trace_function(\"health_check.endpoint\")\n",
    "    def check_endpoint(base_url: str) -> None:\n",
    "        try:\n",
    "            r = httpx.get(f\"{base_url}/models\", timeout=10.0)\n",
    "            r.raise_for_status()\n",
    "            models = r.json()\n",
    "            logfire.info(f\"Endpoint reachable\", extra={\n",
    "                \"endpoint\": base_url,\n",
    "                \"models\": models.get(\"data\", []) or models\n",
    "            })\n",
    "            print(f\"[OK] {base_url} reachable. Models:\", models.get(\"data\", []) or models)\n",
    "        except Exception as e:\n",
    "            logfire.error(f\"Endpoint unreachable\", extra={\n",
    "                \"endpoint\": base_url,\n",
    "                \"error\": str(e)\n",
    "            })\n",
    "            print(f\"[WARN] Could not reach {base_url}: {e}\")\n",
    "\n",
    "    check_endpoint(\"http://localhost:9000/v1\")  # Consultant\n",
    "    check_endpoint(\"http://localhost:9001/v1\")  # Orchestrator"
   ]
  },
  {
   "cell_type": "markdown",
   "id": "dc388a31-0df8-45fc-837c-1844ca700848",
   "metadata": {},
   "source": [
    "\n",
    "# 6) Smoke Test — Consultant Model (Text)\n",
    "\n",
    "Run a tiny prompt through the **Consultant** endpoint (**:9000**, `Qwen/Qwen3-30B-A3B-Instruct-2507-FP8`) and ensure you get output.\n"
   ]
  },
  {
   "cell_type": "code",
   "execution_count": 6,
   "id": "a59eee45-4ad5-42e7-b419-db4541775ebf",
   "metadata": {},
   "outputs": [
    {
     "name": "stdout",
     "output_type": "stream",
     "text": [
      "Hello everyone, and welcome to our exciting multi-agent workshop!\n",
      "\n",
      "We’re thrilled to have you here today as we dive into the future of intelligent systems—where collaboration between AI agents unlocks powerful, real-world solutions. Over the next few sessions, you’ll step into the role of AI architects and developers, working hands-on to design and build a specialized **Nutritionist Agent**.\n",
      "\n",
      "This isn’t just about coding—it’s about creating a smart, empathetic, and data-driven assistant that can understand dietary needs, recommend balanced meals, track nutritional goals, and adapt to individual preferences—all while working seamlessly with other agents in a multi-agent ecosystem.\n",
      "\n",
      "Whether you're new to AI or a seasoned builder, this workshop is designed to be interactive, collaborative, and fun. Together, we’ll explore agent roles, communication protocols, knowledge integration, and ethical considerations—so your Nutritionist Agent isn’t just smart, but also safe, inclusive, and trustworthy.\n",
      "\n",
      "So grab your tools, fire up your environment, and get ready to build something truly impactful. Let’s create a healthier future—one intelligent agent at a time!\n",
      "\n",
      "Welcome aboard—let’s get building! 🌱🤖✨\n"
     ]
    }
   ],
   "source": [
    "consult_client = OpenAI(\n",
    "    base_url=\"http://localhost:9000/v1\",\n",
    "    api_key=\"EMPTY\",\n",
    "    http_client=httpx.Client(http2=False),\n",
    ")\n",
    "\n",
    "try:\n",
    "    resp = consult_client.chat.completions.create(\n",
    "        model=\"Qwen/Qwen3-30B-A3B-Instruct-2507-FP8\",\n",
    "        messages=[\n",
    "            {\"role\": \"system\", \"content\": \"You are a helpful assistant.\"},\n",
    "            {\"role\": \"user\", \"content\": \"Greet my audience to our multi-agent workshop where they build a nutritionist agent.\"}\n",
    "        ],\n",
    "        temperature=0.4,\n",
    "        max_tokens=512,\n",
    "    )\n",
    "    print(resp.choices[0].message.content)\n",
    "except Exception as e:\n",
    "    print(\"[WARN] Consultant chat request failed:\", e)\n"
   ]
  },
  {
   "cell_type": "markdown",
   "id": "dc7716fa-c6dc-4307-be46-8e243f5f0eb7",
   "metadata": {},
   "source": [
    "# 7) Build the Consultant Agent with Pydantic AI"
   ]
  },
  {
   "cell_type": "markdown",
   "id": "a1c70b57-7031-49b6-a578-86d04f11c772",
   "metadata": {},
   "source": [
    "Use **Pydantic AI** to turn the text model (`Qwen/Qwen3-30B-A3B-Instruct-2507-FP8` on :9000) into a structured **Consultant agent**.\n",
    "\n",
    "**Goals**\n",
    "- Define a concise **system prompt** (safety-first; JSON-only outputs).\n",
    "- Create the agent bound to the **consultant endpoint**.\n",
    "- Provide a tiny **async runner** helper to test the agent with a simple ingredient list.\n",
    "\n",
    "**Hints**\n",
    "- Keep the system prompt minimal and enforce JSON shape.\n",
    "- Use short reasons (<= 12 words) for readability.\n",
    "- Don’t browse in this agent; it relies on local DB/tooling and general nutrition knowledge.\n"
   ]
  },
  {
   "cell_type": "code",
   "execution_count": 8,
   "id": "4dc79caa-79ff-49bd-96d7-69c8f9507153",
   "metadata": {},
   "outputs": [],
   "source": [
    "provider_consult = OpenAIProvider(base_url=\"http://localhost:9000/v1\", api_key=\"EMPTY\")\n",
    "consultant_model = OpenAIChatModel(\"Qwen/Qwen3-30B-A3B-Instruct-2507-FP8\", provider=provider_consult)\n",
    "\n",
    "CONSULTANT_SYSTEM = \"\"\"\n",
    "You are a **Nutrition Consultant AI**.\n",
    "\n",
    "### 1. Role\n",
    "Evaluate food products or ingredient lists for a specific health goal. Recommend healthier alternatives from your tool local_lookup_by_name that taste similar and fit the same product type.\n",
    "\n",
    "### 2. Input\n",
    "You will receive either:\n",
    "1) a product name, or 2) a list of ingredients, and a goal in {general_health, low_sodium, low_sugar, high_protein}.\n",
    "\n",
    "### 3. Process\n",
    "- If a **product name** is provided, use `local_lookup_by_name` to retrieve a record and ingredients; then analyze.\n",
    "- If only **ingredients** are provided, analyze using domain knowledge, infer product type(cookie, soup, rice dish, potato chips, etc) and consider alternatives based on type.\n",
    "- Find one healthier healther alternative by finding it using `local_lookup_by_name` that is from the same type(i.e if the product is soup, suggest a healther soup).\n",
    "- Decide overall: ok | caution | avoid | uncertain. Keep reasons concise.\n",
    "### 4. Rules\n",
    "- If the alternative item you suggested is found by `local_lookup_by_name` then keep trying until you find a healthier alternative that is found by this tool.\n",
    "\n",
    "### 4. Output (JSON only)\n",
    "{\n",
    "  \"product\": \"string | optional\",\n",
    "  \"overall\": \"ok | caution | avoid | uncertain\",\n",
    "  \"reasons\": [\"<=12 words each\"],\n",
    "  \"warnings\": [\"<=12 words each\"],\n",
    "  \"alternatives\": [{\"name\": \"string\", \"reason\": \"<=10 words\"}],\n",
    "  \"notes\": [\"optional tip\"],\n",
    "  \"disclaimer\": \"Educational only; not medical advice.\"\n",
    "}\n",
    "\"\"\"\n",
    "\n",
    "consultant_agent = Agent(\n",
    "    model=consultant_model,\n",
    "    system_prompt=CONSULTANT_SYSTEM,\n",
    ")"
   ]
  },
  {
   "cell_type": "markdown",
   "id": "93fb85af-71a8-4588-9263-061e55a95d30",
   "metadata": {},
   "source": [
    "# 8) Add Local OpenNutrition DB as a Tool"
   ]
  },
  {
   "cell_type": "markdown",
   "id": "4ee14c63-d047-45b0-a24e-9260402c398e",
   "metadata": {},
   "source": [
    "Expose your **local OpenNutrition DB** functions as **agent tools** for the Consultant.\n",
    "\n",
    "**Goals**\n",
    "- Register a **name lookup** tool (and optionally a scored/assessed lookup)."
   ]
  },
  {
   "cell_type": "code",
   "execution_count": 12,
   "id": "b8c5df7c-af4a-4d37-aca9-feb2bd97da84",
   "metadata": {},
   "outputs": [
    {
     "name": "stdout",
     "output_type": "stream",
     "text": [
      "Consultant agent ready.\n"
     ]
    }
   ],
   "source": [
    "@consultant_agent.tool_plain #Registers this function as a tool the consultant agent can call\n",
    "@trace_function(\"consultant.tool.local_lookup_by_name\")\n",
    "def local_lookup_by_name(name: str, top_k: int = 5):\n",
    "    \"\"\"Lookup product by name (uses name + alternate_names).\"\"\"\n",
    "    with logfire.span(\"nutrition_db.lookup\", name=name, top_k=top_k):\n",
    "        res = lookup_by_name_local(name, top_k=top_k)\n",
    "        logfire.info(f\"Nutrition DB lookup\", extra={\n",
    "            \"query\": name,\n",
    "            \"results_count\": len(res) if res else 0,\n",
    "            \"found\": bool(res)\n",
    "        })\n",
    "        return res if res else [{\"status\": \"not_found\"}]\n",
    "\n",
    "@trace_function(\"consultant.run\")\n",
    "async def run_consultant(prompt: str) -> str:\n",
    "    async with consultant_agent:\n",
    "        with logfire.span(\"consultant.agent.run\", prompt=prompt[:100]):\n",
    "            result = await consultant_agent.run(prompt)\n",
    "            logfire.info(\"Consultant response\", extra={\n",
    "                \"prompt_length\": len(prompt),\n",
    "                \"response_length\": len(result.output) if result.output else 0,\n",
    "                \"result\": result\n",
    "            })\n",
    "            return result.output\n",
    "\n",
    "print(\"Consultant agent ready.\")"
   ]
  },
  {
   "cell_type": "markdown",
   "id": "160a2fe7-163e-49e7-a459-48c7f8f22355",
   "metadata": {},
   "source": [
    "Now, let's try our agent. I am going to provide this agent the ingredients of Kimchi Fried Rice without telling it what dish this is. Let's see if the agent can infer the type of the dish and analyze it correctly."
   ]
  },
  {
   "cell_type": "code",
   "execution_count": 13,
   "id": "826bf6f1-c7ff-4940-ae46-c563aad0f95a",
   "metadata": {
    "scrolled": true
   },
   "outputs": [
    {
     "name": "stdout",
     "output_type": "stream",
     "text": [
      "18:07:52.426 consultant.run\n",
      "             │ /tmp/ipykernel_375176/560691417.py:20\n",
      "18:07:52.428   consultant.agent.run\n",
      "             │ /tmp/ipykernel_375176/2645890757.py:17\n",
      "             │ prompt='Cooked rice, Kimchi, Gochujang (Korean red chili paste), Soy sauce, Sesame oil, Garlic, Green onions'\n",
      "18:07:52.663     consultant.tool.local_lookup_by_name\n",
      "             │ /tmp/ipykernel_375176/560691417.py:7\n",
      "18:07:52.663       nutrition_db.lookup\n",
      "             │ /tmp/ipykernel_375176/2305954071.py:5\n",
      "             │ name='kimchi fried rice'\n",
      "             │ top_k=5\n",
      "18:07:52.748         Nutrition DB lookup\n",
      "             │ /tmp/ipykernel_375176/2305954071.py:7 info\n",
      "             │ extra={\n",
      "             │           'query': 'kimchi fried rice',\n",
      "             │           'results_count': 5,\n",
      "             │           'found': True,\n",
      "             │       }\n",
      "18:07:53.012     consultant.tool.local_lookup_by_name\n",
      "             │ /tmp/ipykernel_375176/560691417.py:7\n",
      "18:07:53.013       nutrition_db.lookup\n",
      "             │ /tmp/ipykernel_375176/2305954071.py:5\n",
      "             │ name='low sodium kimchi fried rice'\n",
      "             │ top_k=5\n",
      "18:07:53.114         Nutrition DB lookup\n",
      "             │ /tmp/ipykernel_375176/2305954071.py:7 info\n",
      "             │ extra={\n",
      "             │           'query': 'low sodium kimchi fried rice',\n",
      "             │           'results_count': 5,\n",
      "             │           'found': True,\n",
      "             │       }\n",
      "18:07:53.450     consultant.tool.local_lookup_by_name\n",
      "             │ /tmp/ipykernel_375176/560691417.py:7\n",
      "18:07:53.450       nutrition_db.lookup\n",
      "             │ /tmp/ipykernel_375176/2305954071.py:5\n",
      "             │ name='low sodium kimchi fried rice'\n",
      "             │ top_k=1\n",
      "18:07:53.550         Nutrition DB lookup\n",
      "             │ /tmp/ipykernel_375176/2305954071.py:7 info\n",
      "             │ extra={\n",
      "             │           'query': 'low sodium kimchi fried rice',\n",
      "             │           'results_count': 1,\n",
      "             │           'found': True,\n",
      "             │       }\n",
      "18:07:55.161     Consultant response\n",
      "             │ /tmp/ipykernel_375176/2645890757.py:19 info\n",
      "             │ extra={\n",
      "             │           'prompt_length': 168,\n",
      "             │           'response_length': 610,\n",
      "             │           'result': {'output': '{\\n  \"product\": \"Kimchi Fried Rice\",\\n  \"overall\": \"caution\",\\n  \"reasons\": [\\n    \"High sodium from soy sauce and gochujang\",\\n    \"Contains added sugars and oils\",\\n    \"Fried rice base increases fat and calories\"\\n  ],\\n  \"warnings\": [\\n    \"Sodium exceeds 200mg per 100g\",\\n    \"High in processed ingredients\",\\n    \"May spike blood pressure\"\\n  ],\\n  \"alternatives\": [\\n    {\\n      \"name\": \"Low Sodium Yellow Rice by Vigo\",\\n      \"reason\": \"Lower sodium, no added sugars\"\\n    }\\n  ],\\n  \"notes\": [\\n    \"Use fresh kimchi and reduce soy sauce to lower sodium.\"\\n  ],\\n  \"disclaimer\": \"Educational only; not medical advice.\"\\n}'},\n",
      "             │       }\n"
     ]
    },
    {
     "data": {
      "text/plain": [
       "'{\\n  \"product\": \"Kimchi Fried Rice\",\\n  \"overall\": \"caution\",\\n  \"reasons\": [\\n    \"High sodium from soy sauce and gochujang\",\\n    \"Contains added sugars and oils\",\\n    \"Fried rice base increases fat and calories\"\\n  ],\\n  \"warnings\": [\\n    \"Sodium exceeds 200mg per 100g\",\\n    \"High in processed ingredients\",\\n    \"May spike blood pressure\"\\n  ],\\n  \"alternatives\": [\\n    {\\n      \"name\": \"Low Sodium Yellow Rice by Vigo\",\\n      \"reason\": \"Lower sodium, no added sugars\"\\n    }\\n  ],\\n  \"notes\": [\\n    \"Use fresh kimchi and reduce soy sauce to lower sodium.\"\\n  ],\\n  \"disclaimer\": \"Educational only; not medical advice.\"\\n}'"
      ]
     },
     "execution_count": 13,
     "metadata": {},
     "output_type": "execute_result"
    }
   ],
   "source": [
    "await run_consultant(\"Cooked rice, Kimchi, Gochujang (Korean red chili paste), Soy sauce, Sesame oil, Garlic, Green onions, Vegetable oil, Egg, Sugar, Sesame seeds, Seaweed flakes (optional)\")"
   ]
  },
  {
   "cell_type": "markdown",
   "id": "454fd4e7-1b27-4efa-938a-cf5d756cb03b",
   "metadata": {},
   "source": [
    "# 9) Orchestrator (Phase 1) – Ingredient Extractor (no tools yet)"
   ]
  },
  {
   "cell_type": "markdown",
   "id": "8075b13f-a391-46a4-959b-d23c5e6afbe4",
   "metadata": {},
   "source": [
    "Create a **Vision-capable Orchestrator** agent (`Qwen/Qwen3-VL-30B-A3B-Instruct-FP8` on :9001) **without tools** to start.\n",
    "\n",
    "**Goals**\n",
    "- Set a system prompt that **returns only a cleaned ingredient list** when given a product name or image.\n",
    "- Keep responses brief (<= 5 lines).\n",
    "- Ask **one clarifying question** if the query is ambiguous.\n",
    "\n",
    "**Hints**\n",
    "- This phase helps validate basic I/O with the VLM before wiring tools.\n",
    "- You can test with text-only queries first.\n"
   ]
  },
  {
   "cell_type": "code",
   "execution_count": 14,
   "id": "32488e34-290c-4c8f-a394-664c4f32ee42",
   "metadata": {},
   "outputs": [],
   "source": [
    "provider_orch = OpenAIProvider(base_url=\"http://localhost:9001/v1\", api_key=\"EMPTY\")\n",
    "orch_model = OpenAIChatModel(\"Qwen/Qwen3-VL-30B-A3B-Instruct-FP8\", provider=provider_orch)\n",
    "\n",
    "ORCH_SYS_PHASE1 = \"\"\"\n",
    "You are an Ingredient Orchestrator.\n",
    "Goal: When the user names a packaged snack, a dish, or provides a picture, return ONLY a cleaned ingredient list (bullets or comma‑separated) along with product name. If ambiguous, state one brief assumption.\n",
    "Keep response ≤ 5 lines. Educational only; not medical advice.\n",
    "\"\"\"\n",
    "\n",
    "orchestrator_phase1 = Agent(\n",
    "                        model=orch_model, \n",
    "                        system_prompt=ORCH_SYS_PHASE1\n",
    "                    )"
   ]
  },
  {
   "cell_type": "markdown",
   "id": "a5149f01-30e3-4b81-970f-cb7a25f31f6e",
   "metadata": {},
   "source": [
    "Let's first test the basic orchestrator with no tools and track it in logfire"
   ]
  },
  {
   "cell_type": "code",
   "execution_count": 15,
   "id": "b096f377-6e6c-4248-864b-922fbbb8c255",
   "metadata": {},
   "outputs": [],
   "source": [
    "@trace_function(\"orchestrator.phase1.basic\")\n",
    "async def test_phase1_basic(query: str):\n",
    "    async with orchestrator_phase1:\n",
    "        with logfire.span(\"orchestrator.phase1.run\", query=query):\n",
    "            result = await orchestrator_phase1.run(query)\n",
    "            logfire.info(\"Phase1 basic completed\", extra={\n",
    "                \"query\": query,\n",
    "                \"response_length\": len(result.output) if result.output else 0,\n",
    "                \"result\": result\n",
    "            })\n",
    "            return result.output"
   ]
  },
  {
   "cell_type": "code",
   "execution_count": 16,
   "id": "9176637d-5c05-4c41-9387-6035cd398b7d",
   "metadata": {},
   "outputs": [
    {
     "name": "stdout",
     "output_type": "stream",
     "text": [
      "18:09:23.364 test.phase1_basic\n",
      "             │ /tmp/ipykernel_375176/1490741761.py:1\n",
      "18:09:23.364   orchestrator.phase1.basic\n",
      "             │ /tmp/ipykernel_375176/560691417.py:20\n",
      "18:09:23.365     orchestrator.phase1.run\n",
      "             │ /tmp/ipykernel_375176/1017016983.py:4\n",
      "             │ query='Ingredients for KitKat (USA)?'\n",
      "18:09:23.837       Phase1 basic completed\n",
      "             │ /tmp/ipykernel_375176/1017016983.py:6 info\n",
      "             │ extra={\n",
      "             │           'query': 'Ingredients for KitKat (USA)?',\n",
      "             │           'response_length': 193,\n",
      "             │           'result': {'output': 'KitKat (USA): Wheat flour, sugar, cocoa butter, chocolate liquor, milk, cocoa powder, soy lecithin, vanilla, baking soda.  \\n*Assumption: Based on standard U.S. formulation; may vary by flavor.*'},\n",
      "             │       }\n",
      "KitKat (USA): Wheat flour, sugar, cocoa butter, chocolate liquor, milk, cocoa powder, soy lecithin, vanilla, baking soda.  \n",
      "*Assumption: Based on standard U.S. formulation; may vary by flavor.*\n"
     ]
    }
   ],
   "source": [
    "with logfire.span(\"test.phase1_basic\"):\n",
    "    phase1_result = await test_phase1_basic(\"Ingredients for KitKat (USA)?\")\n",
    "    print(phase1_result)"
   ]
  },
  {
   "cell_type": "markdown",
   "id": "2b0144f3-13de-4591-8ed8-8376c9f4193e",
   "metadata": {},
   "source": [
    "# 9) Enable EXA MCP (Fallback Web Search)"
   ]
  },
  {
   "cell_type": "markdown",
   "id": "245fad54-ff81-49bd-8bc9-7d06aac6c374",
   "metadata": {},
   "source": [
    "Add **EXA via MCP** as a **toolset** available to the Orchestrator for **ingredient retrieval** when OFF/local info is insufficient.\n",
    "\n",
    "**Goals**\n",
    "- Initialize `MCPServerStdio` with your `EXA_API_KEY` (environment variable).\n",
    "- Attach the EXA toolset to the Orchestrator agent.\n",
    "\n",
    "**Showcase**\n",
    "- Demonstrate a case where **EXA** finds a manufacturer or retailer page with a clearer ingredient list than initial guesses.\n"
   ]
  },
  {
   "cell_type": "markdown",
   "id": "8ed83b06-40ff-4808-93a8-43dc1cd03ffc",
   "metadata": {},
   "source": [
    "Let's install necessary packages and set EXA MCP client."
   ]
  },
  {
   "cell_type": "code",
   "execution_count": 17,
   "id": "a65d62b1-244d-4282-967d-a6a964a98c7c",
   "metadata": {
    "scrolled": true
   },
   "outputs": [
    {
     "name": "stdout",
     "output_type": "stream",
     "text": [
      "\u001b[38;5;79m2025-10-19 18:17:26 - Installing pre-requisites\u001b[0m\n",
      "Hit:1 https://repo.radeon.com/amdgpu/7.0/ubuntu jammy InRelease\n",
      "Hit:2 https://repo.radeon.com/rocm/apt/7.0 jammy InRelease                     \u001b[0m\n",
      "Hit:3 https://deb.nodesource.com/node_20.x nodistro InRelease                  \u001b[0m\n",
      "Get:4 http://security.ubuntu.com/ubuntu jammy-security InRelease [129 kB]      \u001b[0m\u001b[33m\n",
      "Hit:5 http://archive.ubuntu.com/ubuntu jammy InRelease                         \u001b[0m33m\n",
      "Get:6 http://archive.ubuntu.com/ubuntu jammy-updates InRelease [128 kB]        \u001b[0m\u001b[33m\n",
      "Hit:7 https://ppa.launchpadcontent.net/deadsnakes/ppa/ubuntu jammy InRelease   \u001b[0m\n",
      "Get:8 http://archive.ubuntu.com/ubuntu jammy-backports InRelease [127 kB][33m  \n",
      "Fetched 384 kB in 1s (479 kB/s)  \u001b[0m\u001b[33m\n",
      "Reading package lists... Done\n",
      "Building dependency tree... Done\n",
      "Reading state information... Done\n",
      "26 packages can be upgraded. Run 'apt list --upgradable' to see them.\n",
      "\u001b[1;33mW: \u001b[0mhttps://repo.radeon.com/amdgpu/7.0/ubuntu/dists/jammy/InRelease: Key is stored in legacy trusted.gpg keyring (/etc/apt/trusted.gpg), see the DEPRECATION section in apt-key(8) for details.\u001b[0m\n",
      "\u001b[1;33mW: \u001b[0mhttps://repo.radeon.com/rocm/apt/7.0/dists/jammy/InRelease: Key is stored in legacy trusted.gpg keyring (/etc/apt/trusted.gpg), see the DEPRECATION section in apt-key(8) for details.\u001b[0m\n",
      "Reading package lists... Done\n",
      "Building dependency tree... Done\n",
      "Reading state information... Done\n",
      "ca-certificates is already the newest version (20240203~22.04.1).\n",
      "curl is already the newest version (7.81.0-1ubuntu1.21).\n",
      "gnupg is already the newest version (2.2.27-3ubuntu2.4).\n",
      "apt-transport-https is already the newest version (2.4.14).\n",
      "0 upgraded, 0 newly installed, 0 to remove and 26 not upgraded.\n",
      "Hit:1 https://repo.radeon.com/amdgpu/7.0/ubuntu jammy InRelease\n",
      "Hit:2 http://security.ubuntu.com/ubuntu jammy-security InRelease               \u001b[0m\n",
      "Hit:3 https://deb.nodesource.com/node_20.x nodistro InRelease                  \u001b[0m\n",
      "Hit:4 https://repo.radeon.com/rocm/apt/7.0 jammy InRelease                     \u001b[0m\n",
      "Hit:5 http://archive.ubuntu.com/ubuntu jammy InRelease                         \u001b[0m\u001b[33m\n",
      "Hit:6 http://archive.ubuntu.com/ubuntu jammy-updates InReleasem\u001b[33m           \n",
      "Hit:7 http://archive.ubuntu.com/ubuntu jammy-backports InRelease\n",
      "Hit:8 https://ppa.launchpadcontent.net/deadsnakes/ppa/ubuntu jammy InRelease\n",
      "Reading package lists... Done\n",
      "Building dependency tree... Done\n",
      "Reading state information... Done\n",
      "26 packages can be upgraded. Run 'apt list --upgradable' to see them.\n",
      "\u001b[1;33mW: \u001b[0mhttps://repo.radeon.com/amdgpu/7.0/ubuntu/dists/jammy/InRelease: Key is stored in legacy trusted.gpg keyring (/etc/apt/trusted.gpg), see the DEPRECATION section in apt-key(8) for details.\u001b[0m\n",
      "\u001b[1;33mW: \u001b[0mhttps://repo.radeon.com/rocm/apt/7.0/dists/jammy/InRelease: Key is stored in legacy trusted.gpg keyring (/etc/apt/trusted.gpg), see the DEPRECATION section in apt-key(8) for details.\u001b[0m\n",
      "\u001b[1;34m2025-10-19 18:17:30 - Repository configured successfully.\u001b[0m\n",
      "\u001b[38;5;79m2025-10-19 18:17:30 - To install Node.js, run: apt install nodejs -y\u001b[0m\n",
      "\u001b[38;5;79m2025-10-19 18:17:30 - You can use N|solid Runtime as a node.js alternative\u001b[0m\n",
      "\u001b[1;32m2025-10-19 18:17:30 - To install N|solid Runtime, run: apt install nsolid -y \n",
      "\u001b[0m\n",
      "Reading package lists... Done\n",
      "Building dependency tree... Done\n",
      "Reading state information... Done\n",
      "nodejs is already the newest version (20.19.5-1nodesource1).\n",
      "0 upgraded, 0 newly installed, 0 to remove and 26 not upgraded.\n",
      "18:17:31.999 exa.setup\n",
      "             │ /tmp/ipykernel_375176/1210971944.py:7\n",
      "18:17:32.000   EXA MCP enabled\n",
      "             │ /tmp/ipykernel_375176/1210971944.py:13 info\n",
      "EXA MCP enabled.\n"
     ]
    }
   ],
   "source": [
    "!curl -fsSL https://deb.nodesource.com/setup_20.x | sudo -E bash - || true\n",
    "!apt-get install -y nodejs || true\n",
    "\n",
    "EXA_API_KEY = os.environ.get(\"EXA_API_KEY\")\n",
    "exa_server = None\n",
    "\n",
    "with logfire.span(\"exa.setup\"):\n",
    "    if EXA_API_KEY:\n",
    "        exa_server = MCPServerStdio(\n",
    "            \"npx\",\n",
    "            args=[\"-y\", \"mcp-remote\", f\"https://mcp.exa.ai/mcp?exaApiKey={EXA_API_KEY}\"],\n",
    "        )\n",
    "        logfire.info(\"EXA MCP enabled\")\n",
    "        print(\"EXA MCP enabled.\")\n",
    "    else:\n",
    "        logfire.warning(\"EXA MCP disabled - no API key\")\n",
    "        print(\"EXA MCP disabled (set EXA_API_KEY to enable).\")\n"
   ]
  },
  {
   "cell_type": "markdown",
   "id": "21321610-5aab-4115-a088-3a564ca6542e",
   "metadata": {},
   "source": [
    "Next, we will update our agent system prompt and `toolsets` parameter to use EXA."
   ]
  },
  {
   "cell_type": "code",
   "execution_count": 18,
   "id": "a973345e-d21f-4e46-bcfd-35a64c308d3c",
   "metadata": {},
   "outputs": [],
   "source": [
    "ORCH_SYS_PHASE1_EXA = \"\"\"\n",
    "You are an Ingredient Orchestrator with tool access.\n",
    "Hard requirement:\n",
    "• ALWAYS use web_search_exa(query: str) to look up current ingredients. Do not answer from memory.\n",
    "• Do not answer until you have called web_search_exa at least once in this turn.\n",
    "Goal:\n",
    "• When a user names a store bought snack or dish, use web_search_exa to find a reliable ingredient list (manufacturer > major retailer).\n",
    "• Then list the ingredients and the name of the snack.\n",
    "• Provide a link to the source.\n",
    "Rules:\n",
    "• Keep answers short (≤ 6 lines). No internal JSON/tool dumps.\n",
    "\"\"\"\n",
    "\n",
    "orchestrator_phase1_exa = Agent(\n",
    "    model=orch_model,\n",
    "    system_prompt=ORCH_SYS_PHASE1_EXA,\n",
    "    toolsets=[exa_server] if exa_server else None,\n",
    ")"
   ]
  },
  {
   "cell_type": "markdown",
   "id": "5580c8af-8fb4-4aa1-b827-594fb4b60a34",
   "metadata": {},
   "source": [
    "Let's test the orchestrator with EXA tools"
   ]
  },
  {
   "cell_type": "code",
   "execution_count": 19,
   "id": "37d8bbc5-c2c7-492f-bc82-6faa11582acd",
   "metadata": {},
   "outputs": [],
   "source": [
    "@trace_function(\"orchestrator.phase1.exa\")\n",
    "async def test_phase1_exa(query: str):\n",
    "    async with orchestrator_phase1_exa:\n",
    "        with logfire.span(\"orchestrator.phase1_exa.run\", query=query):\n",
    "            result = await orchestrator_phase1_exa.run(query)\n",
    "            logfire.info(\"Phase1 EXA completed\", extra={\n",
    "                \"query\": query,\n",
    "                \"has_exa\": exa_server is not None,\n",
    "                \"response_length\": len(result.output) if result.output else 0,\n",
    "                \"result\": result\n",
    "            })\n",
    "            return result.output"
   ]
  },
  {
   "cell_type": "code",
   "execution_count": 21,
   "id": "37028cee-825d-48fc-91ec-38aa14219337",
   "metadata": {
    "scrolled": true
   },
   "outputs": [
    {
     "name": "stdout",
     "output_type": "stream",
     "text": [
      "18:22:25.484 test.phase1_exa\n",
      "             │ /tmp/ipykernel_375176/3608687561.py:1\n",
      "18:22:25.484   orchestrator.phase1.exa\n",
      "             │ /tmp/ipykernel_375176/560691417.py:20\n",
      "18:22:26.384     orchestrator.phase1_exa.run\n",
      "             │ /tmp/ipykernel_375176/542199196.py:4\n",
      "             │ query='Ingredients for KitKat (USA)?'\n",
      "18:22:33.455       Phase1 EXA completed\n",
      "             │ /tmp/ipykernel_375176/542199196.py:6 info\n",
      "             │ extra={\n",
      "             │           'query': 'Ingredients for KitKat (USA)?',\n",
      "             │           'has_exa': True,\n",
      "             │           'response_length': 405,\n",
      "             │           'result': {'output': 'Kit Kat (USA) Milk Chocolate ingredients: Sugar, Wheat Flour, Cocoa Butter, Nonfat Milk, Chocolate, Palm Kernel Oil, Milk Fat, Lactose (Milk), Contains 2% or less of: Lecithin (Soy), PGPR (Emulsifier), Vanillin (Artificial Flavor), Salt, Yeast, Baking Soda.  \\nSource: [Hershey Company](https://www.thehersheycompany.com/content/hersheyland/en-us/home/products/kit-kat-milk-chocolate-candy-bar-1-5-oz.html)'},\n",
      "             │       }\n",
      "Kit Kat (USA) Milk Chocolate ingredients: Sugar, Wheat Flour, Cocoa Butter, Nonfat Milk, Chocolate, Palm Kernel Oil, Milk Fat, Lactose (Milk), Contains 2% or less of: Lecithin (Soy), PGPR (Emulsifier), Vanillin (Artificial Flavor), Salt, Yeast, Baking Soda.  \n",
      "Source: [Hershey Company](https://www.thehersheycompany.com/content/hersheyland/en-us/home/products/kit-kat-milk-chocolate-candy-bar-1-5-oz.html)\n"
     ]
    }
   ],
   "source": [
    "with logfire.span(\"test.phase1_exa\"):\n",
    "    phase1_exa_result = await test_phase1_exa(\"Ingredients for KitKat (USA)?\")\n",
    "    print(phase1_exa_result)"
   ]
  },
  {
   "cell_type": "markdown",
   "id": "a78c3966-3a6d-46e8-9dac-e95d0400985e",
   "metadata": {},
   "source": [
    "# 10) Add OpenFoodFacts (OFF) Tools — Vision Barcode -> Ingredients"
   ]
  },
  {
   "cell_type": "markdown",
   "id": "8cd4723f-61d3-42f5-b0b7-4952320b3381",
   "metadata": {},
   "source": [
    "Turn the **OFF API** into callable tools for the Orchestrator:\n",
    "- `off_by_barcode(ean_13: str) -> dict`\n",
    "- `off_search_by_name(query: str, limit: int = 10) -> list[dict]`\n",
    "\n",
    "**Goals**\n",
    "- Register OFF tools on the Orchestrator.\n",
    "- Show a **vision example**: read a label/barcode from an image, call `off_by_barcode`, and extract **ingredients**.\n"
   ]
  },
  {
   "cell_type": "code",
   "execution_count": 22,
   "id": "d3a09322-8b45-4e6c-be6a-76f2c0bfa57a",
   "metadata": {},
   "outputs": [],
   "source": [
    "off = OFFClient(user_agent=\"IngredientOrchestrator/1.0 (you@example.com)\")\n",
    "\n",
    "@trace_function(\"off_api.by_barcode\")\n",
    "def off_by_barcode_fn(ean_13: str) -> dict:\n",
    "    \"\"\"OpenFoodFacts API: lookup by EAN-13 barcode.\"\"\"\n",
    "    try:\n",
    "        with logfire.span(\"off.barcode_lookup\", barcode=ean_13):\n",
    "            result = off.product_by_barcode(ean_13) or {\"status\": \"not_found\"}\n",
    "            logfire.info(f\"OFF barcode lookup\", extra={\n",
    "                \"barcode\": ean_13,\n",
    "                \"found\": result.get(\"status\") != \"not_found\",\n",
    "                \"product_name\": result.get(\"product_name\", \"\")\n",
    "            })\n",
    "            return result\n",
    "    except Exception as e:\n",
    "        logfire.error(f\"OFF barcode lookup failed\", extra={\n",
    "            \"barcode\": ean_13,\n",
    "            \"error\": str(e)\n",
    "        })\n",
    "        return {\"status\": \"error\", \"error\": str(e)}\n",
    "\n",
    "@trace_function(\"off_api.search_by_name\")\n",
    "def off_search_by_name_fn(query: str, limit: int = 10):\n",
    "    \"\"\"OpenFoodFacts API: search by name.\"\"\"\n",
    "    try:\n",
    "        with logfire.span(\"off.name_search\", query=query, limit=limit):\n",
    "            results = off.search_by_name(query, limit=limit) or [{\"status\": \"not_found\"}]\n",
    "            logfire.info(f\"OFF name search\", extra={\n",
    "                \"query\": query,\n",
    "                \"results_count\": len(results),\n",
    "                \"found\": len(results) > 0 and results[0].get(\"status\") != \"not_found\"\n",
    "            })\n",
    "            return results\n",
    "    except Exception as e:\n",
    "        logfire.error(f\"OFF name search failed\", extra={\n",
    "            \"query\": query,\n",
    "            \"error\": str(e)\n",
    "        })\n",
    "        return [{\"status\": \"error\", \"error\": str(e)}]\n",
    "\n",
    "off_by_barcode = Tool(off_by_barcode_fn, name=\"off_by_barcode\", description=\"OFF: lookup by barcode\")\n",
    "off_search_by_name = Tool(off_search_by_name_fn, name=\"off_search_by_name\", description=\"OFF: search by name\")\n",
    "\n",
    "\n",
    "ORCH_SYS_PHASE1_EXA_OFF = \"\"\"\n",
    "You are an Ingredient Orchestrator with tool access.\n",
    "\n",
    "Data tools (in required priority):\n",
    "1. off_by_barcode(ean_13)  -> FIRST if a 13-digit barcode is present.\n",
    "2. off_search_by_name(name) -> If no barcode or barcode lookup failed.\n",
    "3. use web_search_exa(query: str) to look up current ingredients. Do not answer from memory.\n",
    "\n",
    "Goal:\n",
    "• When a user names a store bought snack or dish, use web_search_exa to find a reliable ingredient list (manufacturer > major retailer).\n",
    "• Then list the ingredients and the name of the snack.\n",
    "• Provide a link to the source.\n",
    "\n",
    "Rules:\n",
    "• Keep answers short (≤ 6 lines). No internal JSON/tool dumps.\n",
    "\"\"\"\n",
    "\n",
    "orchestrator_phase1_off = Agent(\n",
    "    model=orch_model,\n",
    "    system_prompt=ORCH_SYS_PHASE1_EXA_OFF,\n",
    "    tools=[off_by_barcode, off_search_by_name],\n",
    "    toolsets=[exa_server] if exa_server else None,\n",
    ")\n"
   ]
  },
  {
   "cell_type": "code",
   "execution_count": 23,
   "id": "07c47993-9bb3-43e2-8397-ec56174b546c",
   "metadata": {},
   "outputs": [],
   "source": [
    "@trace_function(\"orchestrator.phase1.off\")\n",
    "async def test_phase1_off(query: str):\n",
    "    async with orchestrator_phase1_off:\n",
    "        with logfire.span(\"orchestrator.phase1_off.run\", query=query):\n",
    "            result = await orchestrator_phase1_off.run(query)\n",
    "            logfire.info(\"Phase1 OFF+EXA completed\", extra={\n",
    "                \"query\": query,\n",
    "                \"has_exa\": exa_server is not None,\n",
    "                \"response_length\": len(result.output) if result.output else 0,\n",
    "                \"result\": result\n",
    "            })\n",
    "            return result.output"
   ]
  },
  {
   "cell_type": "code",
   "execution_count": 24,
   "id": "9328bf03-7b58-44d2-9d6f-2b3b105c3218",
   "metadata": {
    "scrolled": true
   },
   "outputs": [
    {
     "name": "stdout",
     "output_type": "stream",
     "text": [
      "18:26:21.753 test.phase1_off_exa\n",
      "             │ /tmp/ipykernel_375176/2194628100.py:1\n",
      "18:26:21.753   orchestrator.phase1.off\n",
      "             │ /tmp/ipykernel_375176/560691417.py:20\n",
      "18:26:22.489     orchestrator.phase1_off.run\n",
      "             │ /tmp/ipykernel_375176/3673552331.py:4\n",
      "             │ query='Ingredients for KitKat (USA)?'\n",
      "18:26:29.670       Phase1 OFF+EXA completed\n",
      "             │ /tmp/ipykernel_375176/3673552331.py:6 info\n",
      "             │ extra={\n",
      "             │           'query': 'Ingredients for KitKat (USA)?',\n",
      "             │           'has_exa': True,\n",
      "             │           'response_length': 391,\n",
      "             │           'result': {'output': 'Kit Kat (USA) ingredients:  \\nMilk chocolate (sugar, chocolate, cocoa butter, milk, lactose, milk fat, soy lecithin, vanilla), crisp wafer (wheat flour, sugar, palm oil, corn syrup, whey, salt, baking soda, sodium aluminum phosphate), and emulsifiers (soy lecithin, PGPR).  \\n\\nSource: [The Hershey Company](https://smartlabel.hersheys.com/034000002467-0011-en-US/index.html?rand=1724033387603)'},\n",
      "             │       }\n",
      "Kit Kat (USA) ingredients:  \n",
      "Milk chocolate (sugar, chocolate, cocoa butter, milk, lactose, milk fat, soy lecithin, vanilla), crisp wafer (wheat flour, sugar, palm oil, corn syrup, whey, salt, baking soda, sodium aluminum phosphate), and emulsifiers (soy lecithin, PGPR).  \n",
      "\n",
      "Source: [The Hershey Company](https://smartlabel.hersheys.com/034000002467-0011-en-US/index.html?rand=1724033387603)\n"
     ]
    }
   ],
   "source": [
    "with logfire.span(\"test.phase1_off_exa\"):\n",
    "            phase1_off_result = await test_phase1_off(\"Ingredients for KitKat (USA)?\")\n",
    "            print(phase1_off_result)"
   ]
  },
  {
   "cell_type": "markdown",
   "id": "897556bb-fd86-4fb3-843a-92095cd77dcf",
   "metadata": {},
   "source": [
    "As you can see, providing a direct product name bypasses tool invocation and goes straight to web_search_exa.\n",
    "1. **No barcode present** - Query was \"Ingredients for KitKat (USA)?\"\n",
    "2. **Goal section is more specific** - It directly instructs to use web_search_exa"
   ]
  },
  {
   "cell_type": "markdown",
   "id": "cb556088-9f0f-4ab0-908f-b3529020727d",
   "metadata": {},
   "source": [
    "We can now try our VLM, by giving it a picture rather than the name or ingredients. Let's start by making sure the picture we are giving it is a relevant picture."
   ]
  },
  {
   "cell_type": "code",
   "execution_count": 25,
   "id": "8ec81e94-e651-4bd4-aef2-6971a19cb374",
   "metadata": {
    "scrolled": true
   },
   "outputs": [
    {
     "data": {
      "image/jpeg": "[encoded data removed]",
      "text/plain": [
       "<IPython.core.display.Image object>"
      ]
     },
     "metadata": {},
     "output_type": "display_data"
    }
   ],
   "source": [
    "img_path = Path(\"barcode.jpg\")\n",
    "if img_path.exists():\n",
    "    # Preview the image (fast, no Pillow needed)\n",
    "    from IPython.display import display, Image as IPImage\n",
    "    display(IPImage(filename=str(img_path)))  # shows the picture inline\n",
    "else:\n",
    "    print(\"[Info] Sample image not found; skipping image demo.\")"
   ]
  },
  {
   "cell_type": "markdown",
   "id": "ac1b870c-fef2-4cf3-a793-80815a1464c7",
   "metadata": {},
   "source": [
    "Now let's see if our agent can extract the barcode and pass it to its barcode reader tool."
   ]
  },
  {
   "cell_type": "code",
   "execution_count": 26,
   "id": "6c671858-5282-41c4-b4f6-2921d60268be",
   "metadata": {},
   "outputs": [],
   "source": [
    "@trace_function(\"orchestrator.phase1.image\")\n",
    "async def test_phase1_image(image_path: Path):\n",
    "    if not image_path.exists():\n",
    "        logfire.error(f\"Image not found: {image_path}\")\n",
    "        return \"[Error] Image file not found\"\n",
    "    \n",
    "    mime = mimetypes.guess_type(str(image_path))[0] or \"image/jpeg\"\n",
    "    content = [\n",
    "        \"Use the image: extract a barcode (remove all spaces and extra chars); and call off_by_barcode or off_search_by_name to list ingredients.\",\n",
    "        BinaryContent(data=image_path.read_bytes(), media_type=mime),\n",
    "    ]\n",
    "    \n",
    "    async with orchestrator_phase1_off:\n",
    "        with logfire.span(\"orchestrator.phase1_off.image\", image=str(image_path)):\n",
    "            result = await orchestrator_phase1_off.run(content)\n",
    "            logfire.info(\"Phase1 image processing completed\", extra={\n",
    "                \"image\": str(image_path),\n",
    "                \"mime_type\": mime,\n",
    "                \"file_size\": image_path.stat().st_size,\n",
    "                \"response_length\": len(result.output) if result.output else 0,\n",
    "                \"result\": result\n",
    "            })\n",
    "            return result.output"
   ]
  },
  {
   "cell_type": "code",
   "execution_count": 27,
   "id": "811520a0-a15c-49ef-a1b7-f7dcbc93d3ea",
   "metadata": {
    "scrolled": true
   },
   "outputs": [
    {
     "name": "stdout",
     "output_type": "stream",
     "text": [
      "18:29:11.243 test.phase1_image\n",
      "             │ /tmp/ipykernel_375176/4083283086.py:1\n",
      "18:29:11.244   orchestrator.phase1.image\n",
      "             │ /tmp/ipykernel_375176/560691417.py:20\n",
      "18:29:11.962     orchestrator.phase1_off.image\n",
      "             │ /tmp/ipykernel_375176/2268281843.py:14\n",
      "             │ image='barcode.jpg'\n",
      "18:29:12.397       off_api.by_barcode\n",
      "             │ /tmp/ipykernel_375176/560691417.py:7\n",
      "18:29:12.399         off.barcode_lookup\n",
      "             │ /tmp/ipykernel_375176/4082331844.py:7\n",
      "             │ barcode='829515300579'\n",
      "18:29:12.909           OFF barcode lookup\n",
      "             │ /tmp/ipykernel_375176/4082331844.py:9 info\n",
      "             │ extra={\n",
      "             │           'barcode': '829515300579',\n",
      "             │           'found': True,\n",
      "             │           'product_name': 'Garden Veggie Straws Sea Salt',\n",
      "             │       }\n",
      "18:29:13.928       Phase1 image processing completed\n",
      "             │ /tmp/ipykernel_375176/2268281843.py:16 info\n",
      "             │ extra={\n",
      "             │           'image': 'barcode.jpg',\n",
      "             │           'mime_type': 'image/jpeg',\n",
      "             │           'file_size': 98105,\n",
      "             │           'response_length': 381,\n",
      "             │           'result': {'output': 'Garden Veggie Straws Sea Salt by Sensible Portions  \\nIngredients: Potato starch, potato flour, nola oil and/or sunflower oil and/or safflower oil, corn starch, cane sugar, salt, potassium chloride, spinach powder, sea salt, tomato paste, beetroot powder (color), turmeric extract (color).  \\nSource: https://world.openfoodfacts.org/product/829515300579/garden-veggie-straws-sea-salt'},\n",
      "             │       }\n",
      "Garden Veggie Straws Sea Salt by Sensible Portions  \n",
      "Ingredients: Potato starch, potato flour, nola oil and/or sunflower oil and/or safflower oil, corn starch, cane sugar, salt, potassium chloride, spinach powder, sea salt, tomato paste, beetroot powder (color), turmeric extract (color).  \n",
      "Source: https://world.openfoodfacts.org/product/829515300579/garden-veggie-straws-sea-salt\n"
     ]
    }
   ],
   "source": [
    "with logfire.span(\"test.phase1_image\"):\n",
    "    image_result = await test_phase1_image(img_path)\n",
    "    print(image_result)"
   ]
  },
  {
   "cell_type": "markdown",
   "id": "0a6b3968-6424-4b18-806b-a5dc75c9ee38",
   "metadata": {},
   "source": [
    "# 11) Wrap Consultant as a Tool"
   ]
  },
  {
   "cell_type": "markdown",
   "id": "9d869121-ce08-407c-b916-994060f04b70",
   "metadata": {},
   "source": [
    "Expose the Consultant as a callable tool (e.g., `consult_nutritionist(...)`.\n",
    "\n",
    "**Goals**\n",
    "- Accept **product name** or **ingredient list** and an optional **goal** (e.g., `low_sodium`).\n",
    "- Call the **Consultant agent** internally and **parse JSON** safely.\n",
    "- Return a minimal **fallback** JSON if the consultant returns malformed data.\n"
   ]
  },
  {
   "cell_type": "code",
   "execution_count": 28,
   "id": "4d3d8311-75de-4ee8-9be3-2ffe6ea295cd",
   "metadata": {},
   "outputs": [
    {
     "name": "stdout",
     "output_type": "stream",
     "text": [
      "Consultant wrapped as tool: consult_nutritionist\n"
     ]
    }
   ],
   "source": [
    "@trace_function(\"consultant.tool.consult_nutritionist\")\n",
    "async def consult_nutritionist_fn(\n",
    "    ingredients: List[str],\n",
    "    sodium_mg_per_serving: Optional[int] = None,\n",
    "    product_name: Optional[str] = None,\n",
    ") -> dict:\n",
    "    print(\"consultant agent is called\")\n",
    "    \n",
    "    with logfire.span(\"consultant.prepare_payload\"):\n",
    "        payload = {\"product_name\": product_name, \"ingredients\": ingredients}\n",
    "        logfire.info(\"Consultant payload prepared\", extra={\n",
    "            \"product_name\": product_name,\n",
    "            \"ingredients\": ingredients,\n",
    "            \"sodium_mg\": sodium_mg_per_serving\n",
    "        })\n",
    "    \n",
    "    async with consultant_agent:\n",
    "        with logfire.span(\"consultant.agent.evaluate\"):\n",
    "            start_time = time.time()\n",
    "            res = await consultant_agent.run(json.dumps(payload))\n",
    "            duration = time.time() - start_time\n",
    "            \n",
    "            logfire.info(\"Consultant evaluation complete\", extra={\n",
    "                \"duration_seconds\": duration,\n",
    "                \"response_length\": len(res.output) if res.output else 0,\n",
    "                \"result\": res\n",
    "            })\n",
    "    \n",
    "    try:\n",
    "        parsed_result = json.loads(res.output)\n",
    "        logfire.info(\"Consultant JSON parsed successfully\", extra={\n",
    "            \"overall_verdict\": parsed_result.get(\"overall\", \"unknown\"),\n",
    "            \"alternatives_count\": len(parsed_result.get(\"alternatives\", []))\n",
    "        })\n",
    "        return parsed_result\n",
    "    except Exception as e:\n",
    "        logfire.error(\"Consultant JSON parsing failed\", extra={\n",
    "            \"error\": str(e),\n",
    "            \"raw_output\": res.output[:200] if res.output else \"\"\n",
    "        })\n",
    "        return {\n",
    "            \"overall\": \"uncertain\",\n",
    "            \"reasons\": [\"consultant returned non-JSON\"],\n",
    "            \"warnings\": [],\n",
    "            \"alternatives\": [],\n",
    "            \"disclaimer\": \"Educational only; not medical advice.\",\n",
    "        }\n",
    "\n",
    "consult_nutritionist = Tool(\n",
    "    consult_nutritionist_fn,\n",
    "    name=\"consult_nutritionist\",\n",
    "    description=\"Evaluate ingredient list for high BP; returns JSON verdict.\",\n",
    ")\n",
    "print(\"Consultant wrapped as tool: consult_nutritionist\")"
   ]
  },
  {
   "cell_type": "markdown",
   "id": "08251dfd-0600-466e-a281-fa0aebfeec79",
   "metadata": {},
   "source": [
    "# 12) Final Version — Stick Everything Together"
   ]
  },
  {
   "cell_type": "markdown",
   "id": "18c977cf-c978-40ed-8697-3ca4dece5f5f",
   "metadata": {},
   "source": [
    "Build the final Orchestrator configuration that:\n",
    "1. Uses **OFF tools** first for barcode/name lookups.\n",
    "2. Falls back to **EXA (MCP)** only if OFF fails/ambiguous.\n",
    "3. Calls the **Consultant tool** with either product name or cleaned ingredients.\n",
    "4. Returns a compact **verdict + 1–3 reasons + 1–2 alternatives**, plus an educational disclaimer.\n",
    "\n",
    "**Goals**\n",
    "- Provide a brief **end-to-end** example (text-only and image-based).\n",
    "- Keep outputs <= 6 lines and avoid leaking raw tool JSON."
   ]
  },
  {
   "cell_type": "code",
   "execution_count": 29,
   "id": "d1816781-c349-41e9-92e2-19e455222157",
   "metadata": {},
   "outputs": [
    {
     "name": "stdout",
     "output_type": "stream",
     "text": [
      "Final orchestrator ready.\n"
     ]
    }
   ],
   "source": [
    "from pydantic_ai import Agent as FinalAgent\n",
    "\n",
    "ORCH_SYS_FINAL = \"\"\"\n",
    "You are an Ingredient Orchestrator with tool access.\n",
    "\n",
    "Objective:\n",
    "Derive an ingredient list  (OFF or EXA) or from an explicit user‑provided list, then call consult_nutritionist with BOTH ingredients (list) and product_name.\n",
    "\n",
    "Data tools (priority):\n",
    "1) off_by_barcode(ean_13) - FIRST if a 13‑digit barcode is present.\n",
    "2) off_search_by_name(name) - If no barcode or lookup failed.\n",
    "3) web_search_exa(query) - FALLBACK ONLY if OFF fails/ambiguous or if user explicitly asks for freshest data.\n",
    "\n",
    "RULES:\n",
    "- NEVER fabricate ingredients from memory.\n",
    "- NEVER output an ingredients list unless it came from tools or the user.\n",
    "- If all tools fail, ask the user to paste the ingredients.\n",
    "- ALWAYS use consult_nutritionist when you have the ingredients.\n",
    "- NEVER suggest your own alternative, always rely on the response from consult_nutritionist\n",
    "\n",
    "Extraction rules:\n",
    "- OFF: prefer ingredients fields; preserve order; trim/dedupe.\n",
    "- Web: manufacturer > major retailer > reputable database. Ignore marketing blurbs and storage instructions.\n",
    "\n",
    "Consultant call:\n",
    "- After ingredients are ready, call consult_nutritionist with product_name and ingredients.\n",
    "- Do NOT call until ingredients are confirmed.\n",
    "\n",
    "Ambiguity:\n",
    "- If OFF returns multiple variants (country/flavor), ask ONE concise clarifying question.\n",
    "\n",
    "Final user answer format (≤ 6 lines):\n",
    "1) Verdict: OK / Caution / Avoid / Uncertain\n",
    "2-4) 1-3 short reasons\n",
    "5) Healthier alternative (if available)\n",
    "6) Educational only; not medical advice.\n",
    "\n",
    "**IMPORTANT** Include all the reasoning and actions you took as a summary for the user. Show the results you got from each tool call.\n",
    "\"\"\"\n",
    "\n",
    "orchestrator = FinalAgent(\n",
    "    model=orch_model,\n",
    "    system_prompt=ORCH_SYS_FINAL,\n",
    "    tools=[off_by_barcode, off_search_by_name, consult_nutritionist],\n",
    "    toolsets=[exa_server] if exa_server else None,\n",
    ")\n",
    "\n",
    "print(\"Final orchestrator ready.\")\n"
   ]
  },
  {
   "cell_type": "markdown",
   "id": "85207001-95e9-4a9d-9254-7844e9b8aa55",
   "metadata": {},
   "source": [
    "Run a text-based query through the orchestrator with full telemetry"
   ]
  },
  {
   "cell_type": "code",
   "execution_count": 30,
   "id": "03e74dd6-bb89-4d8c-86fc-44dcfac41559",
   "metadata": {},
   "outputs": [],
   "source": [
    "@trace_function(\"orchestrator.run_text_query\")\n",
    "async def run_text_query(query: str):\n",
    "    with logfire.span(\"orchestrator.text_query\", query=query):\n",
    "        async with orchestrator:\n",
    "            start_time = time.time()\n",
    "            \n",
    "            with logfire.span(\"orchestrator.process\"):\n",
    "                result = await orchestrator.run(query)\n",
    "                \n",
    "            duration = time.time() - start_time\n",
    "            \n",
    "            logfire.info(\"Query completed\", extra={\n",
    "                \"query\": query,\n",
    "                \"duration_seconds\": duration,\n",
    "                \"response_length\": len(result.output) if result.output else 0,\n",
    "                \"result\": result\n",
    "            })\n",
    "            \n",
    "            return result.output"
   ]
  },
  {
   "cell_type": "code",
   "execution_count": 31,
   "id": "97e631c2-90ad-42e7-ba89-108a0f919669",
   "metadata": {
    "scrolled": true
   },
   "outputs": [
    {
     "name": "stdout",
     "output_type": "stream",
     "text": [
      "18:47:39.528 test.orchestrator_final\n",
      "             │ /tmp/ipykernel_375176/1320562359.py:1\n",
      "18:47:39.528   orchestrator.run_text_query\n",
      "             │ /tmp/ipykernel_375176/560691417.py:20\n",
      "18:47:39.529     orchestrator.text_query\n",
      "             │ /tmp/ipykernel_375176/3653966197.py:3\n",
      "             │ query='Is Kitkat USA safe to eat for High Blood Pressure?'\n",
      "18:47:40.318       orchestrator.process\n",
      "             │ /tmp/ipykernel_375176/3653966197.py:7\n",
      "18:47:41.051         off_api.by_barcode\n",
      "             │ /tmp/ipykernel_375176/560691417.py:7\n",
      "18:47:41.051           off.barcode_lookup\n",
      "             │ /tmp/ipykernel_375176/4082331844.py:7\n",
      "             │ barcode='078742001122'\n",
      "18:47:41.445           OFF barcode lookup failed\n",
      "             │ /tmp/ipykernel_375176/4082331844.py:16 error\n",
      "             │ extra={\n",
      "             │           'barcode': '078742001122',\n",
      "             │           'error': \"Client error '404 Not Found' for url 'https://world.openfoodfacts.org/api/v2/product/078742001122.json'\\nFor more information check: https://developer.mozilla.org/en-US/docs/Web/HTTP/Status/404\",\n",
      "             │       }\n",
      "18:47:41.893         off_api.search_by_name\n",
      "             │ /tmp/ipykernel_375176/560691417.py:7\n",
      "18:47:41.894           off.name_search\n",
      "             │ /tmp/ipykernel_375176/4082331844.py:26\n",
      "             │ query='Kitkat USA'\n",
      "             │ limit=10\n",
      "18:47:42.311             OFF name search\n",
      "             │ /tmp/ipykernel_375176/4082331844.py:28 info\n",
      "             │ extra={\n",
      "             │           'query': 'Kitkat USA',\n",
      "             │           'results_count': 10,\n",
      "             │           'found': True,\n",
      "             │       }\n",
      "18:47:51.127         consultant.tool.consult_nutritionist\n",
      "             │ /tmp/ipykernel_375176/560691417.py:20\n",
      "consultant agent is called\n",
      "18:47:51.129           consultant.prepare_payload\n",
      "             │ /tmp/ipykernel_375176/796831428.py:9\n",
      "18:47:51.130             Consultant payload prepared\n",
      "             │ /tmp/ipykernel_375176/796831428.py:11 info\n",
      "             │ extra={\n",
      "             │           'product_name': 'Kit Kat USA',\n",
      "             │           'ingredients': ['Sugar', 'Chocolate', 'Wheat flour', 'Cocoa butter', 'Vegetable oil (palm kernel oil, palm oil)', 'Cocoa processed with alkali', 'Milk fat', 'Lactose (milk)', 'Soy lecithin', 'PGPR', 'Emulsifier', 'Salt', 'Yeast', 'Vanillin (artificial flavor)', 'Baking soda', 'Milk'],\n",
      "             │           'sodium_mg': None,\n",
      "             │       }\n",
      "18:47:51.130           consultant.agent.evaluate\n",
      "             │ /tmp/ipykernel_375176/796831428.py:18\n",
      "18:47:51.364             consultant.tool.local_lookup_by_name\n",
      "             │ /tmp/ipykernel_375176/560691417.py:7\n",
      "18:47:51.364               nutrition_db.lookup\n",
      "             │ /tmp/ipykernel_375176/2305954071.py:5\n",
      "             │ name='Kit Kat USA'\n",
      "             │ top_k=5\n",
      "18:47:51.456                 Nutrition DB lookup\n",
      "             │ /tmp/ipykernel_375176/2305954071.py:7 info\n",
      "             │ extra={\n",
      "             │           'query': 'Kit Kat USA',\n",
      "             │           'results_count': 5,\n",
      "             │           'found': True,\n",
      "             │       }\n",
      "18:47:52.634             consultant.tool.local_lookup_by_name\n",
      "             │ /tmp/ipykernel_375176/560691417.py:7\n",
      "18:47:52.634               nutrition_db.lookup\n",
      "             │ /tmp/ipykernel_375176/2305954071.py:5\n",
      "             │ name='Milk Chocolate Bar by Kit Kat'\n",
      "             │ top_k=5\n",
      "18:47:52.759                 Nutrition DB lookup\n",
      "             │ /tmp/ipykernel_375176/2305954071.py:7 info\n",
      "             │ extra={\n",
      "             │           'query': 'Milk Chocolate Bar by Kit Kat',\n",
      "             │           'results_count': 5,\n",
      "             │           'found': True,\n",
      "             │       }\n",
      "18:47:53.140             consultant.tool.local_lookup_by_name\n",
      "             │ /tmp/ipykernel_375176/560691417.py:7\n",
      "18:47:53.141               nutrition_db.lookup\n",
      "             │ /tmp/ipykernel_375176/2305954071.py:5\n",
      "             │ name='Milk Chocolate Bar by Chocolove'\n",
      "             │ top_k=5\n",
      "18:47:53.247                 Nutrition DB lookup\n",
      "             │ /tmp/ipykernel_375176/2305954071.py:7 info\n",
      "             │ extra={\n",
      "             │           'query': 'Milk Chocolate Bar by Chocolove',\n",
      "             │           'results_count': 5,\n",
      "             │           'found': True,\n",
      "             │       }\n",
      "18:47:53.642             consultant.tool.local_lookup_by_name\n",
      "             │ /tmp/ipykernel_375176/560691417.py:7\n",
      "18:47:53.642               nutrition_db.lookup\n",
      "             │ /tmp/ipykernel_375176/2305954071.py:5\n",
      "             │ name=\"Milk Chocolate Bar by Hershey's\"\n",
      "             │ top_k=5\n",
      "18:47:53.753                 Nutrition DB lookup\n",
      "             │ /tmp/ipykernel_375176/2305954071.py:7 info\n",
      "             │ extra={\n",
      "             │           'query': \"Milk Chocolate Bar by Hershey's\",\n",
      "             │           'results_count': 5,\n",
      "             │           'found': True,\n",
      "             │       }\n",
      "18:47:55.629             Consultant evaluation complete\n",
      "             │ /tmp/ipykernel_375176/796831428.py:23 info\n",
      "             │ extra={\n",
      "             │           'duration_seconds': 4.498566150665283,\n",
      "             │           'response_length': 607,\n",
      "             │           'result': {'output': '{\\n  \"product\": \"Kit Kat USA\",\\n  \"overall\": \"avoid\",\\n  \"reasons\": [\\n    \"High sugar: 50g per 100g\",\\n    \"High saturated fat: 18.8g per 100g\",\\n    \"Contains refined flour and oils\",\\n    \"Artificial flavors and additives\"\\n  ],\\n  \"warnings\": [\\n    \"Low nutritional value\",\\n    \"High calorie density\",\\n    \"May spike blood sugar\"\\n  ],\\n  \"alternatives\": [\\n    {\\n      \"name\": \"Milk Chocolate Bar by Chocolove\",\\n      \"reason\": \"Lower sugar, no artificial flavors\"\\n    }\\n  ],\\n  \"notes\": [\\n    \"Choose dark chocolate with >70% cocoa for better health.\"\\n  ],\\n  \"disclaimer\": \"Educational only; not medical advice.\"\\n}'},\n",
      "             │       }\n",
      "18:47:55.629           Consultant JSON parsed successfully\n",
      "             │ /tmp/ipykernel_375176/796831428.py:31 info\n",
      "             │ extra={\n",
      "             │           'overall_verdict': 'avoid',\n",
      "             │           'alternatives_count': 1,\n",
      "             │       }\n",
      "18:47:58.109       Query completed\n",
      "             │ /tmp/ipykernel_375176/3653966197.py:12 info\n",
      "             │ extra={\n",
      "             │           'query': 'Is Kitkat USA safe to eat for High Blood Pressure?',\n",
      "             │           'duration_seconds': 17.79100227355957,\n",
      "             │           'response_length': 880,\n",
      "             │           'result': {'output': '**Verdict:** Avoid  \\n1. High sugar content (50g per 100g) may spike blood sugar.  \\n2. High saturated fat (18.8g per 100g) and refined oils.  \\n3. Contains artificial flavors and additives.  \\n\\n**Healthier alternative:** Chocolove Milk Chocolate Bar (lower sugar, no artificial flavors).  \\n\\n**Educational only; not medical advice.**  \\n\\n---\\n\\n**Reasoning Summary:**  \\n1. Barcode lookup failed (404 error), so I searched by name, but OFF returned irrelevant results.  \\n2. Web search revealed Kit Kat USA ingredients from a reliable source (All City Candy).  \\n3. Ingredients confirmed: Sugar, Chocolate, Wheat flour, Cocoa butter, Vegetable oil, Milk fat, Soy lecithin, PGPR, Artificial flavor (vanillin), etc.  \\n4. Consulted nutritionist—result: \"Avoid\" due to high sugar, saturated fat, and artificial additives.  \\n5. Provided a healthier alternative (Chocolove) based on the analysis.'},\n",
      "             │       }\n",
      "**Verdict:** Avoid  \n",
      "1. High sugar content (50g per 100g) may spike blood sugar.  \n",
      "2. High saturated fat (18.8g per 100g) and refined oils.  \n",
      "3. Contains artificial flavors and additives.  \n",
      "\n",
      "**Healthier alternative:** Chocolove Milk Chocolate Bar (lower sugar, no artificial flavors).  \n",
      "\n",
      "**Educational only; not medical advice.**  \n",
      "\n",
      "---\n",
      "\n",
      "**Reasoning Summary:**  \n",
      "1. Barcode lookup failed (404 error), so I searched by name, but OFF returned irrelevant results.  \n",
      "2. Web search revealed Kit Kat USA ingredients from a reliable source (All City Candy).  \n",
      "3. Ingredients confirmed: Sugar, Chocolate, Wheat flour, Cocoa butter, Vegetable oil, Milk fat, Soy lecithin, PGPR, Artificial flavor (vanillin), etc.  \n",
      "4. Consulted nutritionist—result: \"Avoid\" due to high sugar, saturated fat, and artificial additives.  \n",
      "5. Provided a healthier alternative (Chocolove) based on the analysis.\n"
     ]
    }
   ],
   "source": [
    "with logfire.span(\"test.orchestrator_final\"):\n",
    "            text_result = await run_text_query(\"Is Kitkat USA safe to eat for High Blood Pressure?\")\n",
    "            print(text_result)"
   ]
  },
  {
   "cell_type": "markdown",
   "id": "16654092-22e9-49af-aa9c-9c929fc65a7d",
   "metadata": {},
   "source": [
    "Run an image-based query through the orchestrator with full telemetry"
   ]
  },
  {
   "cell_type": "code",
   "execution_count": 32,
   "id": "58b2db5c-a3ad-452b-8669-da227838d410",
   "metadata": {},
   "outputs": [],
   "source": [
    "@trace_function(\"orchestrator.run_image_query\")\n",
    "async def run_image_query(image_path: Path, instruction: str):\n",
    "    with logfire.span(\"orchestrator.image_query\", image=str(image_path), instruction=instruction):\n",
    "        if not image_path.exists():\n",
    "            logfire.error(f\"Image not found: {image_path}\")\n",
    "            return \"[Error] Image file not found\"\n",
    "        \n",
    "        mime = mimetypes.guess_type(str(image_path))[0] or \"image/jpeg\"\n",
    "        \n",
    "        with logfire.span(\"orchestrator.prepare_image\"):\n",
    "            content = [\n",
    "                instruction,\n",
    "                BinaryContent(data=image_path.read_bytes(), media_type=mime),\n",
    "            ]\n",
    "            logfire.info(\"Image prepared\", extra={\n",
    "                \"mime_type\": mime,\n",
    "                \"file_size\": image_path.stat().st_size\n",
    "            })\n",
    "        \n",
    "        async with orchestrator:\n",
    "            start_time = time.time()\n",
    "            \n",
    "            with logfire.span(\"orchestrator.process_image\"):\n",
    "                result = await orchestrator.run(content)\n",
    "            \n",
    "            duration = time.time() - start_time\n",
    "            \n",
    "            logfire.info(\"Image query completed\", extra={\n",
    "                \"image\": str(image_path),\n",
    "                \"duration_seconds\": duration,\n",
    "                \"response_length\": len(result.output) if result.output else 0,\n",
    "                \"result\": result\n",
    "            })\n",
    "            \n",
    "            return result.output"
   ]
  },
  {
   "cell_type": "code",
   "execution_count": 33,
   "id": "a107962e-b219-4087-92b8-89c5154f14a5",
   "metadata": {
    "scrolled": true
   },
   "outputs": [
    {
     "name": "stdout",
     "output_type": "stream",
     "text": [
      "18:47:58.128 test.orchestrator_final_image\n",
      "             │ /tmp/ipykernel_375176/1147491093.py:1\n",
      "18:47:58.128   orchestrator.run_image_query\n",
      "             │ /tmp/ipykernel_375176/560691417.py:20\n",
      "18:47:58.130     orchestrator.image_query\n",
      "             │ /tmp/ipykernel_375176/124263575.py:3\n",
      "             │ image='barcode.jpg'\n",
      "             │ instruction='Analyze this product for someone with high blood pressure'\n",
      "18:47:58.130       orchestrator.prepare_image\n",
      "             │ /tmp/ipykernel_375176/124263575.py:10\n",
      "18:47:58.131         Image prepared\n",
      "             │ /tmp/ipykernel_375176/124263575.py:15 info\n",
      "             │ extra={\n",
      "             │           'mime_type': 'image/jpeg',\n",
      "             │           'file_size': 98105,\n",
      "             │       }\n",
      "18:47:58.988       orchestrator.process_image\n",
      "             │ /tmp/ipykernel_375176/124263575.py:23\n",
      "18:47:59.697         off_api.by_barcode\n",
      "             │ /tmp/ipykernel_375176/560691417.py:7\n",
      "18:47:59.698           off.barcode_lookup\n",
      "             │ /tmp/ipykernel_375176/4082331844.py:7\n",
      "             │ barcode='829515300579'\n",
      "18:48:00.098             OFF barcode lookup\n",
      "             │ /tmp/ipykernel_375176/4082331844.py:9 info\n",
      "             │ extra={\n",
      "             │           'barcode': '829515300579',\n",
      "             │           'found': True,\n",
      "             │           'product_name': 'Garden Veggie Straws Sea Salt',\n",
      "             │       }\n",
      "18:48:01.777         consultant.tool.consult_nutritionist\n",
      "             │ /tmp/ipykernel_375176/560691417.py:20\n",
      "consultant agent is called\n",
      "18:48:01.777           consultant.prepare_payload\n",
      "             │ /tmp/ipykernel_375176/796831428.py:9\n",
      "18:48:01.777             Consultant payload prepared\n",
      "             │ /tmp/ipykernel_375176/796831428.py:11 info\n",
      "             │ extra={\n",
      "             │           'product_name': 'Garden Veggie Straws Sea Salt',\n",
      "             │           'ingredients': ['POTATO STARCH', 'POTATO FLOUR', 'NOLA OIL AND/OR SUNFLOWER OIL AND/OR SAFFLOWER OIL', 'CORN STARCH', 'CANE SUGAR', 'SALT', 'POTASSIUM CHLORIDE', 'SPINACH POWDER', 'SEA SALT', 'TOMATO PASTE', 'BEETROOT POWDER (COLOR)', 'TURMERIC EXTRACT (COLOR)'],\n",
      "             │           'sodium_mg': None,\n",
      "             │       }\n",
      "18:48:01.777           consultant.agent.evaluate\n",
      "             │ /tmp/ipykernel_375176/796831428.py:18\n",
      "18:48:02.049             consultant.tool.local_lookup_by_name\n",
      "             │ /tmp/ipykernel_375176/560691417.py:7\n",
      "18:48:02.050               nutrition_db.lookup\n",
      "             │ /tmp/ipykernel_375176/2305954071.py:5\n",
      "             │ name='Garden Veggie Straws Sea Salt'\n",
      "             │ top_k=5\n",
      "18:48:02.152                 Nutrition DB lookup\n",
      "             │ /tmp/ipykernel_375176/2305954071.py:7 info\n",
      "             │ extra={\n",
      "             │           'query': 'Garden Veggie Straws Sea Salt',\n",
      "             │           'results_count': 5,\n",
      "             │           'found': True,\n",
      "             │       }\n",
      "18:48:02.434             consultant.tool.local_lookup_by_name\n",
      "             │ /tmp/ipykernel_375176/560691417.py:7\n",
      "18:48:02.435               nutrition_db.lookup\n",
      "             │ /tmp/ipykernel_375176/2305954071.py:5\n",
      "             │ name='Veggie Straws, Low Sodium'\n",
      "             │ top_k=5\n",
      "18:48:02.526                 Nutrition DB lookup\n",
      "             │ /tmp/ipykernel_375176/2305954071.py:7 info\n",
      "             │ extra={\n",
      "             │           'query': 'Veggie Straws, Low Sodium',\n",
      "             │           'results_count': 5,\n",
      "             │           'found': True,\n",
      "             │       }\n",
      "18:48:02.950             consultant.tool.local_lookup_by_name\n",
      "             │ /tmp/ipykernel_375176/560691417.py:7\n",
      "18:48:02.951               nutrition_db.lookup\n",
      "             │ /tmp/ipykernel_375176/2305954071.py:5\n",
      "             │ name='Veggie Straws, Low Sodium'\n",
      "             │ top_k=10\n",
      "18:48:03.044                 Nutrition DB lookup\n",
      "             │ /tmp/ipykernel_375176/2305954071.py:7 info\n",
      "             │ extra={\n",
      "             │           'query': 'Veggie Straws, Low Sodium',\n",
      "             │           'results_count': 10,\n",
      "             │           'found': True,\n",
      "             │       }\n",
      "18:48:03.562             consultant.tool.local_lookup_by_name\n",
      "             │ /tmp/ipykernel_375176/560691417.py:7\n",
      "18:48:03.562               nutrition_db.lookup\n",
      "             │ /tmp/ipykernel_375176/2305954071.py:5\n",
      "             │ name='Veggie Straws, Low Sodium'\n",
      "             │ top_k=1\n",
      "18:48:03.651                 Nutrition DB lookup\n",
      "             │ /tmp/ipykernel_375176/2305954071.py:7 info\n",
      "             │ extra={\n",
      "             │           'query': 'Veggie Straws, Low Sodium',\n",
      "             │           'results_count': 1,\n",
      "             │           'found': True,\n",
      "             │       }\n",
      "18:48:05.416             Consultant evaluation complete\n",
      "             │ /tmp/ipykernel_375176/796831428.py:23 info\n",
      "             │ extra={\n",
      "             │           'duration_seconds': 3.6383554935455322,\n",
      "             │           'response_length': 666,\n",
      "             │           'result': {'output': '{\\n  \"product\": \"Garden Veggie Straws Sea Salt\",\\n  \"overall\": \"caution\",\\n  \"reasons\": [\\n    \"High sodium: 786mg per 100g\",\\n    \"High in refined starches and oils\",\\n    \"Contains cane sugar and added sugars\"\\n  ],\\n  \"warnings\": [\\n    \"Low fiber; high glycemic impact\",\\n    \"High sodium may affect blood pressure\",\\n    \"Added sugars may contribute to excess calorie intake\"\\n  ],\\n  \"alternatives\": [\\n    {\\n      \"name\": \"Low Sodium Pastrami\",\\n      \"reason\": \"Much lower sodium, no added sugars\"\\n    }\\n  ],\\n  \"notes\": [\\n    \"Choose whole-food snacks like raw veggies or air-popped popcorn for better health.\"\\n  ],\\n  \"disclaimer\": \"Educational only; not medical advice.\"\\n}'},\n",
      "             │       }\n",
      "18:48:05.416           Consultant JSON parsed successfully\n",
      "             │ /tmp/ipykernel_375176/796831428.py:31 info\n",
      "             │ extra={\n",
      "             │           'overall_verdict': 'caution',\n",
      "             │           'alternatives_count': 1,\n",
      "             │       }\n",
      "18:48:07.745       Image query completed\n",
      "             │ /tmp/ipykernel_375176/124263575.py:28 info\n",
      "             │ extra={\n",
      "             │           'image': 'barcode.jpg',\n",
      "             │           'duration_seconds': 8.756863832473755,\n",
      "             │           'response_length': 933,\n",
      "             │           'result': {'output': '**Verdict:** Caution  \\n1. High sodium content (786mg per 100g) may affect blood pressure.  \\n2. Contains refined starches and added sugars, which can impact overall health.  \\n3. High glycemic impact due to refined carbohydrates and sugar.  \\n**Healthier alternative:** Low Sodium Pastrami (much lower sodium, no added sugars).  \\n*Note: Choose whole-food snacks like raw veggies or air-popped popcorn for better health. Educational only; not medical advice.*\\n\\n**Summary of actions:**  \\n- Extracted barcode: 829515300579.  \\n- Used `off_by_barcode` to retrieve product details: \"Garden Veggie Straws Sea Salt\" by Sensible Portions.  \\n- Extracted ingredients list from OFF: 12 items including salt, cane sugar, and refined starches.  \\n- Called `consult_nutritionist` with the ingredients and product name.  \\n- Received a \"Caution\" verdict due to high sodium, added sugars, and refined carbs.  \\n- Alternative suggested: Low Sodium Pastrami.'},\n",
      "             │       }\n",
      "**Verdict:** Caution  \n",
      "1. High sodium content (786mg per 100g) may affect blood pressure.  \n",
      "2. Contains refined starches and added sugars, which can impact overall health.  \n",
      "3. High glycemic impact due to refined carbohydrates and sugar.  \n",
      "**Healthier alternative:** Low Sodium Pastrami (much lower sodium, no added sugars).  \n",
      "*Note: Choose whole-food snacks like raw veggies or air-popped popcorn for better health. Educational only; not medical advice.*\n",
      "\n",
      "**Summary of actions:**  \n",
      "- Extracted barcode: 829515300579.  \n",
      "- Used `off_by_barcode` to retrieve product details: \"Garden Veggie Straws Sea Salt\" by Sensible Portions.  \n",
      "- Extracted ingredients list from OFF: 12 items including salt, cane sugar, and refined starches.  \n",
      "- Called `consult_nutritionist` with the ingredients and product name.  \n",
      "- Received a \"Caution\" verdict due to high sodium, added sugars, and refined carbs.  \n",
      "- Alternative suggested: Low Sodium Pastrami.\n"
     ]
    }
   ],
   "source": [
    "with logfire.span(\"test.orchestrator_final_image\"):\n",
    "    final_image_result = await run_image_query(\n",
    "        img_path,\n",
    "        \"Analyze this product for someone with high blood pressure\"\n",
    "    )\n",
    "    print(final_image_result)"
   ]
  },
  {
   "cell_type": "code",
   "execution_count": null,
   "id": "c2ad8217-78a6-423c-b4aa-b09528c3d1d4",
   "metadata": {},
   "outputs": [],
   "source": []
  }
 ],
 "metadata": {
  "kernelspec": {
   "display_name": "Python 3 (ipykernel)",
   "language": "python",
   "name": "python3"
  },
  "language_info": {
   "codemirror_mode": {
    "name": "ipython",
    "version": 3
   },
   "file_extension": ".py",
   "mimetype": "text/x-python",
   "name": "python",
   "nbconvert_exporter": "python",
   "pygments_lexer": "ipython3",
   "version": "3.12.11"
  }
 },
 "nbformat": 4,
 "nbformat_minor": 5
}
